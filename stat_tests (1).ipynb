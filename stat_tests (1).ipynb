{
 "cells": [
  {
   "cell_type": "code",
   "execution_count": 1,
   "id": "c0add893-0aec-4f25-b6af-8233c5f6b7ae",
   "metadata": {},
   "outputs": [],
   "source": [
    "# libraries\n",
    "import matplotlib.pyplot as plt\n",
    "import numpy as np\n",
    "import pandas as pd\n",
    "import seaborn as sns\n",
    "\n",
    "from scipy.stats import levene\n",
    "from scipy.stats import shapiro\n",
    "from scipy.stats import mannwhitneyu\n",
    "from scipy import stats"
   ]
  },
  {
   "cell_type": "code",
   "execution_count": 2,
   "id": "31a705d9-d7b5-46a1-9dc0-51fbb526324c",
   "metadata": {},
   "outputs": [],
   "source": [
    "all_data = pd.read_csv('final_data_full.csv', sep=\",\", encoding='cp1252')\n",
    "all_data = all_data.dropna(how='all')"
   ]
  },
  {
   "cell_type": "code",
   "execution_count": 3,
   "id": "0c916bdc-3937-4850-b85e-382f6c800bc1",
   "metadata": {},
   "outputs": [],
   "source": [
    "all_data = all_data.rename(columns={\"no\": \"condition\", \"Entry no\": \"participant\", \"measure_post \":'measure_post'})\n",
    "all_data['condition'] = all_data['condition'].apply(lambda x: x[-1])\n",
    "\n",
    "# conditions are numbered for now (condition_3 is third-person intervention)\n",
    "def condition_values(value):\n",
    "    if value == 'A':\n",
    "        return 'condition_1'\n",
    "    elif value == 'B':\n",
    "        return 'condition_2'\n",
    "    elif value == 'C':\n",
    "        return 'condition_3'\n",
    "    else:\n",
    "        return 'control'\n",
    "all_data.condition = all_data.condition.apply(condition_values)\n",
    "\n",
    "#fixing time\n",
    "to_time = lambda x: pd.to_timedelta('00:'+x)\n",
    "def time_fix(value):\n",
    "    for i in value:\n",
    "        if i in [',', '.']:\n",
    "            mins, secs = value.split(i)\n",
    "    return float(\"{0:.2f}\".format(float(mins) + (float(secs)/ 60)))\n",
    "\n",
    "all_data.measure_past = all_data.measure_past.astype(str).apply(time_fix)\n",
    "all_data.measure_pre = all_data.measure_pre.astype(str).apply(time_fix)\n",
    "all_data.measure_post = all_data.measure_post.astype(str).apply(time_fix)\n",
    "all_data.measure_actual = all_data.measure_actual.astype(str).apply(time_fix)\n",
    "\n",
    "#simplifying condition into experimental and control\n",
    "def condition(condition):\n",
    "    if condition == 'control':\n",
    "        return 'control'\n",
    "    else:\n",
    "        return 'experiment'\n",
    "all_data['simple_condition'] = [condition(x) for x in all_data['condition']] # this is for H1\n",
    "\n",
    "# adding the variable of discrepancy => \"error\" (= actual measure - post intervention estimate) - our main experimental focus\n",
    "all_data['error'] = all_data['measure_actual'] - all_data['measure_post']"
   ]
  },
  {
   "cell_type": "markdown",
   "id": "b34d8bfc-4530-464e-b3d6-ac7e0e8805c8",
   "metadata": {},
   "source": [
    "-----------------------------------"
   ]
  },
  {
   "cell_type": "markdown",
   "id": "594e57b6-6d05-4189-a004-b16855ae7b9f",
   "metadata": {},
   "source": [
    "<div style=\"background-color: lightblue; padding: 10px;\">\n",
    "    \n",
    "# Part 1: Demographics (Descriptive Stats)"
   ]
  },
  {
   "cell_type": "markdown",
   "id": "a30ffed0-267a-4314-bddd-4d41020d7ed2",
   "metadata": {},
   "source": [
    "## 1) Gender"
   ]
  },
  {
   "cell_type": "code",
   "execution_count": 4,
   "id": "4af6971c-79ad-401f-afa5-8d8c012eaa61",
   "metadata": {},
   "outputs": [
    {
     "data": {
      "text/html": [
       "<style type=\"text/css\">\n",
       "#T_f01a6_row0_col5, #T_f01a6_row1_col5, #T_f01a6_row2_col5 {\n",
       "  background-color: #d0d0d0;\n",
       "}\n",
       "#T_f01a6_row0_col6, #T_f01a6_row1_col6, #T_f01a6_row2_col6 {\n",
       "  background-color: #e0e0e0;\n",
       "}\n",
       "</style>\n",
       "<table id=\"T_f01a6\">\n",
       "  <caption><b>Table 1. Gender Statistics<b></caption>\n",
       "  <thead>\n",
       "    <tr>\n",
       "      <th class=\"blank level0\" >&nbsp;</th>\n",
       "      <th id=\"T_f01a6_level0_col0\" class=\"col_heading level0 col0\" >gender</th>\n",
       "      <th id=\"T_f01a6_level0_col1\" class=\"col_heading level0 col1\" >condition_1</th>\n",
       "      <th id=\"T_f01a6_level0_col2\" class=\"col_heading level0 col2\" >condition_2</th>\n",
       "      <th id=\"T_f01a6_level0_col3\" class=\"col_heading level0 col3\" >condition_3</th>\n",
       "      <th id=\"T_f01a6_level0_col4\" class=\"col_heading level0 col4\" >control</th>\n",
       "      <th id=\"T_f01a6_level0_col5\" class=\"col_heading level0 col5\" >overall</th>\n",
       "      <th id=\"T_f01a6_level0_col6\" class=\"col_heading level0 col6\" >rsd</th>\n",
       "    </tr>\n",
       "  </thead>\n",
       "  <tbody>\n",
       "    <tr>\n",
       "      <th id=\"T_f01a6_level0_row0\" class=\"row_heading level0 row0\" >0</th>\n",
       "      <td id=\"T_f01a6_row0_col0\" class=\"data row0 col0\" >Female</td>\n",
       "      <td id=\"T_f01a6_row0_col1\" class=\"data row0 col1\" >14</td>\n",
       "      <td id=\"T_f01a6_row0_col2\" class=\"data row0 col2\" >8</td>\n",
       "      <td id=\"T_f01a6_row0_col3\" class=\"data row0 col3\" >11</td>\n",
       "      <td id=\"T_f01a6_row0_col4\" class=\"data row0 col4\" >10</td>\n",
       "      <td id=\"T_f01a6_row0_col5\" class=\"data row0 col5\" >43</td>\n",
       "      <td id=\"T_f01a6_row0_col6\" class=\"data row0 col6\" >23.26%</td>\n",
       "    </tr>\n",
       "    <tr>\n",
       "      <th id=\"T_f01a6_level0_row1\" class=\"row_heading level0 row1\" >1</th>\n",
       "      <td id=\"T_f01a6_row1_col0\" class=\"data row1 col0\" >Male</td>\n",
       "      <td id=\"T_f01a6_row1_col1\" class=\"data row1 col1\" >1</td>\n",
       "      <td id=\"T_f01a6_row1_col2\" class=\"data row1 col2\" >5</td>\n",
       "      <td id=\"T_f01a6_row1_col3\" class=\"data row1 col3\" >4</td>\n",
       "      <td id=\"T_f01a6_row1_col4\" class=\"data row1 col4\" >5</td>\n",
       "      <td id=\"T_f01a6_row1_col5\" class=\"data row1 col5\" >15</td>\n",
       "      <td id=\"T_f01a6_row1_col6\" class=\"data row1 col6\" >50.48%</td>\n",
       "    </tr>\n",
       "    <tr>\n",
       "      <th id=\"T_f01a6_level0_row2\" class=\"row_heading level0 row2\" >2</th>\n",
       "      <td id=\"T_f01a6_row2_col0\" class=\"data row2 col0\" >Non-binary</td>\n",
       "      <td id=\"T_f01a6_row2_col1\" class=\"data row2 col1\" >0</td>\n",
       "      <td id=\"T_f01a6_row2_col2\" class=\"data row2 col2\" >2</td>\n",
       "      <td id=\"T_f01a6_row2_col3\" class=\"data row2 col3\" >0</td>\n",
       "      <td id=\"T_f01a6_row2_col4\" class=\"data row2 col4\" >0</td>\n",
       "      <td id=\"T_f01a6_row2_col5\" class=\"data row2 col5\" >2</td>\n",
       "      <td id=\"T_f01a6_row2_col6\" class=\"data row2 col6\" >200.00%</td>\n",
       "    </tr>\n",
       "  </tbody>\n",
       "</table>\n"
      ],
      "text/plain": [
       "<pandas.io.formats.style.Styler at 0x277e8b5bb60>"
      ]
     },
     "execution_count": 4,
     "metadata": {},
     "output_type": "execute_result"
    }
   ],
   "source": [
    "# table for all conditions\n",
    "gender_data = all_data[['condition','gender']].groupby('condition')\\\n",
    ".value_counts().to_frame().reset_index()\\\n",
    ".pivot(index='gender', columns='condition', values='count')\\\n",
    ".fillna(0).astype(int).reset_index()\n",
    "\n",
    "# overall stats\n",
    "gender_data['overall'] = gender_data[['condition_1', 'condition_2', 'condition_3', 'control']].sum(axis=1).astype(int)\n",
    "\n",
    "# counting rsd\n",
    "gender_vs = []\n",
    "for i in range(gender_data['gender'].nunique()):\n",
    "    stds = gender_data[['condition_1', 'condition_2', 'condition_3', 'control']].iloc[i].std()\n",
    "    means = gender_data[['condition_1', 'condition_2', 'condition_3', 'control']].iloc[i].mean()\n",
    "    #print(f\"RSD for {gender_data['gender'].unique()[i]}: {((stds/means) * 100):.2f}%\")\n",
    "    gender_vs.append(f\"{((stds/means) * 100):.2f}%\")\n",
    "gender_data['rsd'] = gender_vs\n",
    "\n",
    "def highlight1(val):\n",
    "    return 'background-color: #e0e0e0'\n",
    "def highlight2(val):\n",
    "    return 'background-color: #d0d0d0'\n",
    "\n",
    "#styling table\n",
    "gender_data.columns.name = None\n",
    "gender_data = gender_data.style\\\n",
    ".set_caption(\"<b>Table 1. Gender Statistics<b>\")\\\n",
    ".map(highlight2, subset=['overall'])\\\n",
    ".map(highlight1, subset=['rsd'])\n",
    "\n",
    "gender_data"
   ]
  },
  {
   "cell_type": "markdown",
   "id": "a8e2ba48-a657-4b29-a8c8-a5d172cc1c2a",
   "metadata": {},
   "source": [
    "## 2) Age"
   ]
  },
  {
   "cell_type": "code",
   "execution_count": 5,
   "id": "c2444470-54a6-45e7-ba2c-fccf999de59f",
   "metadata": {},
   "outputs": [
    {
     "name": "stdout",
     "output_type": "stream",
     "text": [
      "RSD of age: 4.29%\n"
     ]
    },
    {
     "data": {
      "text/html": [
       "<style type=\"text/css\">\n",
       "#T_e160d_row0_col4, #T_e160d_row1_col4 {\n",
       "  background-color: #d0d0d0;\n",
       "}\n",
       "</style>\n",
       "<table id=\"T_e160d\">\n",
       "  <caption><b>Table 2. Age Statistics<b></caption>\n",
       "  <thead>\n",
       "    <tr>\n",
       "      <th class=\"blank level0\" >&nbsp;</th>\n",
       "      <th id=\"T_e160d_level0_col0\" class=\"col_heading level0 col0\" >condition_1</th>\n",
       "      <th id=\"T_e160d_level0_col1\" class=\"col_heading level0 col1\" >condition_2</th>\n",
       "      <th id=\"T_e160d_level0_col2\" class=\"col_heading level0 col2\" >condition_3</th>\n",
       "      <th id=\"T_e160d_level0_col3\" class=\"col_heading level0 col3\" >control</th>\n",
       "      <th id=\"T_e160d_level0_col4\" class=\"col_heading level0 col4\" >overall</th>\n",
       "    </tr>\n",
       "  </thead>\n",
       "  <tbody>\n",
       "    <tr>\n",
       "      <th id=\"T_e160d_level0_row0\" class=\"row_heading level0 row0\" >mean_age</th>\n",
       "      <td id=\"T_e160d_row0_col0\" class=\"data row0 col0\" >21</td>\n",
       "      <td id=\"T_e160d_row0_col1\" class=\"data row0 col1\" >21</td>\n",
       "      <td id=\"T_e160d_row0_col2\" class=\"data row0 col2\" >21</td>\n",
       "      <td id=\"T_e160d_row0_col3\" class=\"data row0 col3\" >21</td>\n",
       "      <td id=\"T_e160d_row0_col4\" class=\"data row0 col4\" >21.58</td>\n",
       "    </tr>\n",
       "    <tr>\n",
       "      <th id=\"T_e160d_level0_row1\" class=\"row_heading level0 row1\" >age_range</th>\n",
       "      <td id=\"T_e160d_row1_col0\" class=\"data row1 col0\" >4</td>\n",
       "      <td id=\"T_e160d_row1_col1\" class=\"data row1 col1\" >2</td>\n",
       "      <td id=\"T_e160d_row1_col2\" class=\"data row1 col2\" >3</td>\n",
       "      <td id=\"T_e160d_row1_col3\" class=\"data row1 col3\" >4</td>\n",
       "      <td id=\"T_e160d_row1_col4\" class=\"data row1 col4\" >5.00</td>\n",
       "    </tr>\n",
       "  </tbody>\n",
       "</table>\n"
      ],
      "text/plain": [
       "<pandas.io.formats.style.Styler at 0x277e894b110>"
      ]
     },
     "execution_count": 5,
     "metadata": {},
     "output_type": "execute_result"
    }
   ],
   "source": [
    "# table for all conditions\n",
    "age_data = all_data[['age', 'condition']].groupby('condition')\\\n",
    ".agg({'age':['mean', lambda x: x.max()-x.min()]}).astype(int)\n",
    "age_data.columns = ['mean_age', 'age_range']\n",
    "age_data = age_data.T\n",
    "\n",
    "# overall stats\n",
    "age_all = all_data['age'].agg(['mean', lambda x: x.max()-x.min()])\\\n",
    ".to_frame().astype(float)['age'].to_list()\n",
    "age_data['overall'] = [\"{:.2f}\".format(x) for x in age_all]\n",
    "\n",
    "# counting rsd\n",
    "rsd_age = (all_data['age'].std() / all_data['age'].mean()) * 100\n",
    "print(f\"RSD of age: {rsd_age:.2f}%\")\n",
    "\n",
    "#styling table\n",
    "age_data.columns.name = None\n",
    "age_data = age_data.style\\\n",
    ".set_caption(\"<b>Table 2. Age Statistics<b>\")\\\n",
    ".map(highlight2, subset=['overall'])\n",
    "\n",
    "age_data"
   ]
  },
  {
   "cell_type": "markdown",
   "id": "7070eb47-cfb8-41a4-8e20-8d07f94285d8",
   "metadata": {},
   "source": [
    "## 3) Ethnicity"
   ]
  },
  {
   "cell_type": "code",
   "execution_count": 6,
   "id": "434b7a41-3869-4ad9-9c61-d20150ca0839",
   "metadata": {},
   "outputs": [
    {
     "data": {
      "text/html": [
       "<style type=\"text/css\">\n",
       "#T_7ab4a_row0_col5, #T_7ab4a_row1_col5, #T_7ab4a_row2_col5, #T_7ab4a_row3_col5, #T_7ab4a_row4_col5 {\n",
       "  background-color: #d0d0d0;\n",
       "}\n",
       "#T_7ab4a_row0_col6, #T_7ab4a_row1_col6, #T_7ab4a_row2_col6, #T_7ab4a_row3_col6, #T_7ab4a_row4_col6 {\n",
       "  background-color: #e0e0e0;\n",
       "}\n",
       "</style>\n",
       "<table id=\"T_7ab4a\">\n",
       "  <caption><b>Table 3. Ethnicity Statistics<b></caption>\n",
       "  <thead>\n",
       "    <tr>\n",
       "      <th class=\"blank level0\" >&nbsp;</th>\n",
       "      <th id=\"T_7ab4a_level0_col0\" class=\"col_heading level0 col0\" >ethnicity</th>\n",
       "      <th id=\"T_7ab4a_level0_col1\" class=\"col_heading level0 col1\" >condition_1</th>\n",
       "      <th id=\"T_7ab4a_level0_col2\" class=\"col_heading level0 col2\" >condition_2</th>\n",
       "      <th id=\"T_7ab4a_level0_col3\" class=\"col_heading level0 col3\" >condition_3</th>\n",
       "      <th id=\"T_7ab4a_level0_col4\" class=\"col_heading level0 col4\" >control</th>\n",
       "      <th id=\"T_7ab4a_level0_col5\" class=\"col_heading level0 col5\" >overall</th>\n",
       "      <th id=\"T_7ab4a_level0_col6\" class=\"col_heading level0 col6\" >rsd</th>\n",
       "    </tr>\n",
       "  </thead>\n",
       "  <tbody>\n",
       "    <tr>\n",
       "      <th id=\"T_7ab4a_level0_row0\" class=\"row_heading level0 row0\" >0</th>\n",
       "      <td id=\"T_7ab4a_row0_col0\" class=\"data row0 col0\" >Arab</td>\n",
       "      <td id=\"T_7ab4a_row0_col1\" class=\"data row0 col1\" >0</td>\n",
       "      <td id=\"T_7ab4a_row0_col2\" class=\"data row0 col2\" >0</td>\n",
       "      <td id=\"T_7ab4a_row0_col3\" class=\"data row0 col3\" >1</td>\n",
       "      <td id=\"T_7ab4a_row0_col4\" class=\"data row0 col4\" >0</td>\n",
       "      <td id=\"T_7ab4a_row0_col5\" class=\"data row0 col5\" >1</td>\n",
       "      <td id=\"T_7ab4a_row0_col6\" class=\"data row0 col6\" >200.00%</td>\n",
       "    </tr>\n",
       "    <tr>\n",
       "      <th id=\"T_7ab4a_level0_row1\" class=\"row_heading level0 row1\" >1</th>\n",
       "      <td id=\"T_7ab4a_row1_col0\" class=\"data row1 col0\" >Asian</td>\n",
       "      <td id=\"T_7ab4a_row1_col1\" class=\"data row1 col1\" >0</td>\n",
       "      <td id=\"T_7ab4a_row1_col2\" class=\"data row1 col2\" >2</td>\n",
       "      <td id=\"T_7ab4a_row1_col3\" class=\"data row1 col3\" >3</td>\n",
       "      <td id=\"T_7ab4a_row1_col4\" class=\"data row1 col4\" >1</td>\n",
       "      <td id=\"T_7ab4a_row1_col5\" class=\"data row1 col5\" >6</td>\n",
       "      <td id=\"T_7ab4a_row1_col6\" class=\"data row1 col6\" >86.07%</td>\n",
       "    </tr>\n",
       "    <tr>\n",
       "      <th id=\"T_7ab4a_level0_row2\" class=\"row_heading level0 row2\" >2</th>\n",
       "      <td id=\"T_7ab4a_row2_col0\" class=\"data row2 col0\" >Black/African/Caribbean</td>\n",
       "      <td id=\"T_7ab4a_row2_col1\" class=\"data row2 col1\" >0</td>\n",
       "      <td id=\"T_7ab4a_row2_col2\" class=\"data row2 col2\" >0</td>\n",
       "      <td id=\"T_7ab4a_row2_col3\" class=\"data row2 col3\" >1</td>\n",
       "      <td id=\"T_7ab4a_row2_col4\" class=\"data row2 col4\" >0</td>\n",
       "      <td id=\"T_7ab4a_row2_col5\" class=\"data row2 col5\" >1</td>\n",
       "      <td id=\"T_7ab4a_row2_col6\" class=\"data row2 col6\" >200.00%</td>\n",
       "    </tr>\n",
       "    <tr>\n",
       "      <th id=\"T_7ab4a_level0_row3\" class=\"row_heading level0 row3\" >3</th>\n",
       "      <td id=\"T_7ab4a_row3_col0\" class=\"data row3 col0\" >Mixed/Multiple Ethnic Groups</td>\n",
       "      <td id=\"T_7ab4a_row3_col1\" class=\"data row3 col1\" >1</td>\n",
       "      <td id=\"T_7ab4a_row3_col2\" class=\"data row3 col2\" >1</td>\n",
       "      <td id=\"T_7ab4a_row3_col3\" class=\"data row3 col3\" >2</td>\n",
       "      <td id=\"T_7ab4a_row3_col4\" class=\"data row3 col4\" >0</td>\n",
       "      <td id=\"T_7ab4a_row3_col5\" class=\"data row3 col5\" >4</td>\n",
       "      <td id=\"T_7ab4a_row3_col6\" class=\"data row3 col6\" >81.65%</td>\n",
       "    </tr>\n",
       "    <tr>\n",
       "      <th id=\"T_7ab4a_level0_row4\" class=\"row_heading level0 row4\" >4</th>\n",
       "      <td id=\"T_7ab4a_row4_col0\" class=\"data row4 col0\" >White</td>\n",
       "      <td id=\"T_7ab4a_row4_col1\" class=\"data row4 col1\" >14</td>\n",
       "      <td id=\"T_7ab4a_row4_col2\" class=\"data row4 col2\" >12</td>\n",
       "      <td id=\"T_7ab4a_row4_col3\" class=\"data row4 col3\" >8</td>\n",
       "      <td id=\"T_7ab4a_row4_col4\" class=\"data row4 col4\" >14</td>\n",
       "      <td id=\"T_7ab4a_row4_col5\" class=\"data row4 col5\" >48</td>\n",
       "      <td id=\"T_7ab4a_row4_col6\" class=\"data row4 col6\" >23.57%</td>\n",
       "    </tr>\n",
       "  </tbody>\n",
       "</table>\n"
      ],
      "text/plain": [
       "<pandas.io.formats.style.Styler at 0x277e894b390>"
      ]
     },
     "execution_count": 6,
     "metadata": {},
     "output_type": "execute_result"
    }
   ],
   "source": [
    "# table for all conditions\n",
    "ethnicity_data = all_data[['condition', 'ethnicity']].groupby('condition')\\\n",
    ".value_counts().to_frame().reset_index()\\\n",
    ".pivot(index='ethnicity', columns='condition', values='count')\\\n",
    ".fillna(0).astype(int).reset_index()\n",
    "\n",
    "# overall stats\n",
    "ethnicity_all = all_data['ethnicity'].value_counts()\\\n",
    ".to_frame().reset_index().sort_values(by='ethnicity')['count'].to_list()\n",
    "ethnicity_data['overall'] = [int(x) for x in ethnicity_all]\n",
    "\n",
    "# counting rsd\n",
    "ethnicity_vs = []\n",
    "for i in range(ethnicity_data['ethnicity'].nunique()):\n",
    "    stds = ethnicity_data[['condition_1', 'condition_2', 'condition_3', 'control']].iloc[i].std()\n",
    "    means = ethnicity_data[['condition_1', 'condition_2', 'condition_3', 'control']].iloc[i].mean()\n",
    "    #print(f\"RSD for {\n",
    "    #ethnicity_data.reset_index()['ethnicity'].unique()[i]\n",
    "    #}: {((stds/means)*100):.2f}%\")\n",
    "    ethnicity_vs.append(f\"{((stds/means) * 100):.2f}%\")\n",
    "ethnicity_data['rsd'] = ethnicity_vs\n",
    "ethnicity_data.columns.name = None\n",
    "\n",
    "#styling table\n",
    "ethnicity_data = ethnicity_data.style\\\n",
    ".set_caption(\"<b>Table 3. Ethnicity Statistics<b>\")\\\n",
    ".map(highlight2, subset=['overall'])\\\n",
    ".map(highlight1, subset=['rsd'])\n",
    "\n",
    "ethnicity_data"
   ]
  },
  {
   "cell_type": "markdown",
   "id": "32988994-15ad-4177-9d25-9f8578183ead",
   "metadata": {},
   "source": [
    "## 4) Skills and Familiriarity\n"
   ]
  },
  {
   "cell_type": "code",
   "execution_count": 7,
   "id": "3e4527a8-ca68-4fe9-8db8-072709563db4",
   "metadata": {},
   "outputs": [
    {
     "data": {
      "text/html": [
       "<style type=\"text/css\">\n",
       "#T_b302e_row0_col5, #T_b302e_row1_col5, #T_b302e_row2_col5, #T_b302e_row3_col5 {\n",
       "  background-color: #d0d0d0;\n",
       "}\n",
       "#T_b302e_row0_col6, #T_b302e_row1_col6, #T_b302e_row2_col6, #T_b302e_row3_col6 {\n",
       "  background-color: #e0e0e0;\n",
       "}\n",
       "</style>\n",
       "<table id=\"T_b302e\">\n",
       "  <caption><b>Table 4. Presentation Skills Statistics<b></caption>\n",
       "  <thead>\n",
       "    <tr>\n",
       "      <th class=\"blank level0\" >&nbsp;</th>\n",
       "      <th id=\"T_b302e_level0_col0\" class=\"col_heading level0 col0\" >skills</th>\n",
       "      <th id=\"T_b302e_level0_col1\" class=\"col_heading level0 col1\" >condition_1</th>\n",
       "      <th id=\"T_b302e_level0_col2\" class=\"col_heading level0 col2\" >condition_2</th>\n",
       "      <th id=\"T_b302e_level0_col3\" class=\"col_heading level0 col3\" >condition_3</th>\n",
       "      <th id=\"T_b302e_level0_col4\" class=\"col_heading level0 col4\" >control</th>\n",
       "      <th id=\"T_b302e_level0_col5\" class=\"col_heading level0 col5\" >overall</th>\n",
       "      <th id=\"T_b302e_level0_col6\" class=\"col_heading level0 col6\" >rsd</th>\n",
       "    </tr>\n",
       "  </thead>\n",
       "  <tbody>\n",
       "    <tr>\n",
       "      <th id=\"T_b302e_level0_row0\" class=\"row_heading level0 row0\" >0</th>\n",
       "      <td id=\"T_b302e_row0_col0\" class=\"data row0 col0\" >Advanced</td>\n",
       "      <td id=\"T_b302e_row0_col1\" class=\"data row0 col1\" >4</td>\n",
       "      <td id=\"T_b302e_row0_col2\" class=\"data row0 col2\" >8</td>\n",
       "      <td id=\"T_b302e_row0_col3\" class=\"data row0 col3\" >9</td>\n",
       "      <td id=\"T_b302e_row0_col4\" class=\"data row0 col4\" >6</td>\n",
       "      <td id=\"T_b302e_row0_col5\" class=\"data row0 col5\" >27</td>\n",
       "      <td id=\"T_b302e_row0_col6\" class=\"data row0 col6\" >32.85%</td>\n",
       "    </tr>\n",
       "    <tr>\n",
       "      <th id=\"T_b302e_level0_row1\" class=\"row_heading level0 row1\" >1</th>\n",
       "      <td id=\"T_b302e_row1_col0\" class=\"data row1 col0\" >Beginner</td>\n",
       "      <td id=\"T_b302e_row1_col1\" class=\"data row1 col1\" >0</td>\n",
       "      <td id=\"T_b302e_row1_col2\" class=\"data row1 col2\" >0</td>\n",
       "      <td id=\"T_b302e_row1_col3\" class=\"data row1 col3\" >1</td>\n",
       "      <td id=\"T_b302e_row1_col4\" class=\"data row1 col4\" >0</td>\n",
       "      <td id=\"T_b302e_row1_col5\" class=\"data row1 col5\" >1</td>\n",
       "      <td id=\"T_b302e_row1_col6\" class=\"data row1 col6\" >200.00%</td>\n",
       "    </tr>\n",
       "    <tr>\n",
       "      <th id=\"T_b302e_level0_row2\" class=\"row_heading level0 row2\" >2</th>\n",
       "      <td id=\"T_b302e_row2_col0\" class=\"data row2 col0\" >Expert</td>\n",
       "      <td id=\"T_b302e_row2_col1\" class=\"data row2 col1\" >0</td>\n",
       "      <td id=\"T_b302e_row2_col2\" class=\"data row2 col2\" >6</td>\n",
       "      <td id=\"T_b302e_row2_col3\" class=\"data row2 col3\" >1</td>\n",
       "      <td id=\"T_b302e_row2_col4\" class=\"data row2 col4\" >3</td>\n",
       "      <td id=\"T_b302e_row2_col5\" class=\"data row2 col5\" >10</td>\n",
       "      <td id=\"T_b302e_row2_col6\" class=\"data row2 col6\" >105.83%</td>\n",
       "    </tr>\n",
       "    <tr>\n",
       "      <th id=\"T_b302e_level0_row3\" class=\"row_heading level0 row3\" >3</th>\n",
       "      <td id=\"T_b302e_row3_col0\" class=\"data row3 col0\" >Intermediate</td>\n",
       "      <td id=\"T_b302e_row3_col1\" class=\"data row3 col1\" >11</td>\n",
       "      <td id=\"T_b302e_row3_col2\" class=\"data row3 col2\" >1</td>\n",
       "      <td id=\"T_b302e_row3_col3\" class=\"data row3 col3\" >4</td>\n",
       "      <td id=\"T_b302e_row3_col4\" class=\"data row3 col4\" >6</td>\n",
       "      <td id=\"T_b302e_row3_col5\" class=\"data row3 col5\" >22</td>\n",
       "      <td id=\"T_b302e_row3_col6\" class=\"data row3 col6\" >76.42%</td>\n",
       "    </tr>\n",
       "  </tbody>\n",
       "</table>\n"
      ],
      "text/plain": [
       "<pandas.io.formats.style.Styler at 0x277e8af3d90>"
      ]
     },
     "execution_count": 7,
     "metadata": {},
     "output_type": "execute_result"
    }
   ],
   "source": [
    "# table for all conditions\n",
    "skills_table = all_data.groupby(['condition','skills']).agg({'skills':'count'})\\\n",
    ".rename(columns={'skills':'count'}).reset_index()\\\n",
    ".pivot(index='skills',columns='condition',values='count')\\\n",
    ".fillna(0).astype(int).reset_index()\n",
    "\n",
    "# overall stats\n",
    "skills_table['overall'] = all_data['skills'].value_counts()\\\n",
    ".to_frame().sort_values(by='skills')['count'].to_list()\n",
    "\n",
    "# counting rsd\n",
    "skills_vs = []\n",
    "for i in range(skills_table['skills'].nunique()):\n",
    "    stds = skills_table[['condition_1', 'condition_2', 'condition_3', 'control']].iloc[i].std()\n",
    "    means = skills_table[['condition_1', 'condition_2', 'condition_3', 'control']].iloc[i].mean()\n",
    "    #print(f\"RSD for {\n",
    "    #skills_table.reset_index()['skills'].unique()[i]\n",
    "    #}: {((stds/means)*100):.2f}%\")\n",
    "    skills_vs.append(f\"{((stds/means) * 100):.2f}%\")\n",
    "skills_table['rsd'] = skills_vs\n",
    "skills_table.columns.name = None\n",
    "\n",
    "#styling table\n",
    "skills_table = skills_table.style\\\n",
    ".set_caption(\"<b>Table 4. Presentation Skills Statistics<b>\")\\\n",
    ".map(highlight2, subset=['overall'])\\\n",
    ".map(highlight1, subset=['rsd'])\n",
    "\n",
    "skills_table"
   ]
  },
  {
   "cell_type": "markdown",
   "id": "6c27df57-cdbf-44fe-9b4a-ddc042bc13ad",
   "metadata": {},
   "source": [
    "----"
   ]
  },
  {
   "cell_type": "code",
   "execution_count": 8,
   "id": "5374448d-2559-4fca-9b77-d64a793598a0",
   "metadata": {},
   "outputs": [
    {
     "data": {
      "text/html": [
       "<style type=\"text/css\">\n",
       "#T_7aa9b_row0_col5, #T_7aa9b_row1_col5, #T_7aa9b_row2_col5 {\n",
       "  background-color: #d0d0d0;\n",
       "}\n",
       "#T_7aa9b_row0_col6, #T_7aa9b_row1_col6, #T_7aa9b_row2_col6 {\n",
       "  background-color: #e0e0e0;\n",
       "}\n",
       "</style>\n",
       "<table id=\"T_7aa9b\">\n",
       "  <caption><b>Table 5. Task Familiarity Statistics<b></caption>\n",
       "  <thead>\n",
       "    <tr>\n",
       "      <th class=\"blank level0\" >&nbsp;</th>\n",
       "      <th id=\"T_7aa9b_level0_col0\" class=\"col_heading level0 col0\" >familiarity</th>\n",
       "      <th id=\"T_7aa9b_level0_col1\" class=\"col_heading level0 col1\" >condition_1</th>\n",
       "      <th id=\"T_7aa9b_level0_col2\" class=\"col_heading level0 col2\" >condition_2</th>\n",
       "      <th id=\"T_7aa9b_level0_col3\" class=\"col_heading level0 col3\" >condition_3</th>\n",
       "      <th id=\"T_7aa9b_level0_col4\" class=\"col_heading level0 col4\" >control</th>\n",
       "      <th id=\"T_7aa9b_level0_col5\" class=\"col_heading level0 col5\" >overall</th>\n",
       "      <th id=\"T_7aa9b_level0_col6\" class=\"col_heading level0 col6\" >rsd</th>\n",
       "    </tr>\n",
       "  </thead>\n",
       "  <tbody>\n",
       "    <tr>\n",
       "      <th id=\"T_7aa9b_level0_row0\" class=\"row_heading level0 row0\" >0</th>\n",
       "      <td id=\"T_7aa9b_row0_col0\" class=\"data row0 col0\" >Moderately Familiar</td>\n",
       "      <td id=\"T_7aa9b_row0_col1\" class=\"data row0 col1\" >9</td>\n",
       "      <td id=\"T_7aa9b_row0_col2\" class=\"data row0 col2\" >0</td>\n",
       "      <td id=\"T_7aa9b_row0_col3\" class=\"data row0 col3\" >8</td>\n",
       "      <td id=\"T_7aa9b_row0_col4\" class=\"data row0 col4\" >4</td>\n",
       "      <td id=\"T_7aa9b_row0_col5\" class=\"data row0 col5\" >21</td>\n",
       "      <td id=\"T_7aa9b_row0_col6\" class=\"data row0 col6\" >78.34%</td>\n",
       "    </tr>\n",
       "    <tr>\n",
       "      <th id=\"T_7aa9b_level0_row1\" class=\"row_heading level0 row1\" >1</th>\n",
       "      <td id=\"T_7aa9b_row1_col0\" class=\"data row1 col0\" >Somewhat Familiar</td>\n",
       "      <td id=\"T_7aa9b_row1_col1\" class=\"data row1 col1\" >1</td>\n",
       "      <td id=\"T_7aa9b_row1_col2\" class=\"data row1 col2\" >0</td>\n",
       "      <td id=\"T_7aa9b_row1_col3\" class=\"data row1 col3\" >3</td>\n",
       "      <td id=\"T_7aa9b_row1_col4\" class=\"data row1 col4\" >2</td>\n",
       "      <td id=\"T_7aa9b_row1_col5\" class=\"data row1 col5\" >6</td>\n",
       "      <td id=\"T_7aa9b_row1_col6\" class=\"data row1 col6\" >86.07%</td>\n",
       "    </tr>\n",
       "    <tr>\n",
       "      <th id=\"T_7aa9b_level0_row2\" class=\"row_heading level0 row2\" >2</th>\n",
       "      <td id=\"T_7aa9b_row2_col0\" class=\"data row2 col0\" >Very Familiar</td>\n",
       "      <td id=\"T_7aa9b_row2_col1\" class=\"data row2 col1\" >5</td>\n",
       "      <td id=\"T_7aa9b_row2_col2\" class=\"data row2 col2\" >15</td>\n",
       "      <td id=\"T_7aa9b_row2_col3\" class=\"data row2 col3\" >4</td>\n",
       "      <td id=\"T_7aa9b_row2_col4\" class=\"data row2 col4\" >9</td>\n",
       "      <td id=\"T_7aa9b_row2_col5\" class=\"data row2 col5\" >33</td>\n",
       "      <td id=\"T_7aa9b_row2_col6\" class=\"data row2 col6\" >60.50%</td>\n",
       "    </tr>\n",
       "  </tbody>\n",
       "</table>\n"
      ],
      "text/plain": [
       "<pandas.io.formats.style.Styler at 0x277e8af3ed0>"
      ]
     },
     "execution_count": 8,
     "metadata": {},
     "output_type": "execute_result"
    }
   ],
   "source": [
    "# table for all conditions\n",
    "familiarity_table = all_data.groupby(['condition','familiarity']).agg({'familiarity':'count'})\\\n",
    ".rename(columns={'familiarity':'count'}).reset_index()\\\n",
    ".pivot(index='familiarity',columns='condition',values='count')\\\n",
    ".fillna(0).astype(int).reset_index()\n",
    "\n",
    "# overall stats\n",
    "familiarity_table['overall'] = all_data['familiarity'].value_counts()\\\n",
    ".to_frame().sort_values(by='familiarity')['count'].to_list()\n",
    "\n",
    "# counting rsd\n",
    "familiarity_vs = []\n",
    "for i in range(familiarity_table['familiarity'].nunique()):\n",
    "    stds = familiarity_table[['condition_1', 'condition_2', 'condition_3', 'control']].iloc[i].std()\n",
    "    means = familiarity_table[['condition_1', 'condition_2', 'condition_3', 'control']].iloc[i].mean()\n",
    "    #print(f\"RSD for {\n",
    "    #familiarity_table.reset_index()['familiarity'].unique()[i]\n",
    "    #}: {((stds/means)*100):.2f}%\")\n",
    "    familiarity_vs.append(f\"{((stds/means) * 100):.2f}%\")\n",
    "familiarity_table['rsd'] = familiarity_vs\n",
    "familiarity_table.columns.name = None\n",
    "\n",
    "#styling table\n",
    "familiarity_table = familiarity_table.style\\\n",
    ".set_caption(\"<b>Table 5. Task Familiarity Statistics<b>\")\\\n",
    ".map(highlight2, subset=['overall'])\\\n",
    ".map(highlight1, subset=['rsd'])\n",
    "\n",
    "familiarity_table"
   ]
  },
  {
   "cell_type": "markdown",
   "id": "45a092f9-0e84-4183-8056-8b1a7d9be87b",
   "metadata": {},
   "source": [
    "## 5) Motivation and Confidence\n"
   ]
  },
  {
   "cell_type": "code",
   "execution_count": 9,
   "id": "57f9464a-9d90-49bb-aafb-195f557de6cc",
   "metadata": {},
   "outputs": [
    {
     "data": {
      "text/html": [
       "<style type=\"text/css\">\n",
       "#T_509aa_row0_col5, #T_509aa_row1_col5, #T_509aa_row2_col5, #T_509aa_row3_col5, #T_509aa_row4_col5 {\n",
       "  background-color: #d0d0d0;\n",
       "}\n",
       "#T_509aa_row0_col6, #T_509aa_row1_col6, #T_509aa_row2_col6, #T_509aa_row3_col6, #T_509aa_row4_col6 {\n",
       "  background-color: #e0e0e0;\n",
       "}\n",
       "</style>\n",
       "<table id=\"T_509aa\">\n",
       "  <caption><b>Table 6. Motivation Statistics<b></caption>\n",
       "  <thead>\n",
       "    <tr>\n",
       "      <th class=\"blank level0\" >&nbsp;</th>\n",
       "      <th id=\"T_509aa_level0_col0\" class=\"col_heading level0 col0\" >motivation</th>\n",
       "      <th id=\"T_509aa_level0_col1\" class=\"col_heading level0 col1\" >condition_1</th>\n",
       "      <th id=\"T_509aa_level0_col2\" class=\"col_heading level0 col2\" >condition_2</th>\n",
       "      <th id=\"T_509aa_level0_col3\" class=\"col_heading level0 col3\" >condition_3</th>\n",
       "      <th id=\"T_509aa_level0_col4\" class=\"col_heading level0 col4\" >control</th>\n",
       "      <th id=\"T_509aa_level0_col5\" class=\"col_heading level0 col5\" >overall</th>\n",
       "      <th id=\"T_509aa_level0_col6\" class=\"col_heading level0 col6\" >rsd</th>\n",
       "    </tr>\n",
       "  </thead>\n",
       "  <tbody>\n",
       "    <tr>\n",
       "      <th id=\"T_509aa_level0_row0\" class=\"row_heading level0 row0\" >0</th>\n",
       "      <td id=\"T_509aa_row0_col0\" class=\"data row0 col0\" >Extremely</td>\n",
       "      <td id=\"T_509aa_row0_col1\" class=\"data row0 col1\" >3</td>\n",
       "      <td id=\"T_509aa_row0_col2\" class=\"data row0 col2\" >0</td>\n",
       "      <td id=\"T_509aa_row0_col3\" class=\"data row0 col3\" >0</td>\n",
       "      <td id=\"T_509aa_row0_col4\" class=\"data row0 col4\" >2</td>\n",
       "      <td id=\"T_509aa_row0_col5\" class=\"data row0 col5\" >5</td>\n",
       "      <td id=\"T_509aa_row0_col6\" class=\"data row0 col6\" >120.00%</td>\n",
       "    </tr>\n",
       "    <tr>\n",
       "      <th id=\"T_509aa_level0_row1\" class=\"row_heading level0 row1\" >1</th>\n",
       "      <td id=\"T_509aa_row1_col0\" class=\"data row1 col0\" >Moderately</td>\n",
       "      <td id=\"T_509aa_row1_col1\" class=\"data row1 col1\" >8</td>\n",
       "      <td id=\"T_509aa_row1_col2\" class=\"data row1 col2\" >9</td>\n",
       "      <td id=\"T_509aa_row1_col3\" class=\"data row1 col3\" >3</td>\n",
       "      <td id=\"T_509aa_row1_col4\" class=\"data row1 col4\" >6</td>\n",
       "      <td id=\"T_509aa_row1_col5\" class=\"data row1 col5\" >26</td>\n",
       "      <td id=\"T_509aa_row1_col6\" class=\"data row1 col6\" >40.70%</td>\n",
       "    </tr>\n",
       "    <tr>\n",
       "      <th id=\"T_509aa_level0_row2\" class=\"row_heading level0 row2\" >2</th>\n",
       "      <td id=\"T_509aa_row2_col0\" class=\"data row2 col0\" >Not at all</td>\n",
       "      <td id=\"T_509aa_row2_col1\" class=\"data row2 col1\" >1</td>\n",
       "      <td id=\"T_509aa_row2_col2\" class=\"data row2 col2\" >0</td>\n",
       "      <td id=\"T_509aa_row2_col3\" class=\"data row2 col3\" >4</td>\n",
       "      <td id=\"T_509aa_row2_col4\" class=\"data row2 col4\" >1</td>\n",
       "      <td id=\"T_509aa_row2_col5\" class=\"data row2 col5\" >6</td>\n",
       "      <td id=\"T_509aa_row2_col6\" class=\"data row2 col6\" >115.47%</td>\n",
       "    </tr>\n",
       "    <tr>\n",
       "      <th id=\"T_509aa_level0_row3\" class=\"row_heading level0 row3\" >3</th>\n",
       "      <td id=\"T_509aa_row3_col0\" class=\"data row3 col0\" >Slightly</td>\n",
       "      <td id=\"T_509aa_row3_col1\" class=\"data row3 col1\" >2</td>\n",
       "      <td id=\"T_509aa_row3_col2\" class=\"data row3 col2\" >4</td>\n",
       "      <td id=\"T_509aa_row3_col3\" class=\"data row3 col3\" >7</td>\n",
       "      <td id=\"T_509aa_row3_col4\" class=\"data row3 col4\" >4</td>\n",
       "      <td id=\"T_509aa_row3_col5\" class=\"data row3 col5\" >17</td>\n",
       "      <td id=\"T_509aa_row3_col6\" class=\"data row3 col6\" >48.51%</td>\n",
       "    </tr>\n",
       "    <tr>\n",
       "      <th id=\"T_509aa_level0_row4\" class=\"row_heading level0 row4\" >4</th>\n",
       "      <td id=\"T_509aa_row4_col0\" class=\"data row4 col0\" >Very</td>\n",
       "      <td id=\"T_509aa_row4_col1\" class=\"data row4 col1\" >1</td>\n",
       "      <td id=\"T_509aa_row4_col2\" class=\"data row4 col2\" >2</td>\n",
       "      <td id=\"T_509aa_row4_col3\" class=\"data row4 col3\" >1</td>\n",
       "      <td id=\"T_509aa_row4_col4\" class=\"data row4 col4\" >2</td>\n",
       "      <td id=\"T_509aa_row4_col5\" class=\"data row4 col5\" >6</td>\n",
       "      <td id=\"T_509aa_row4_col6\" class=\"data row4 col6\" >38.49%</td>\n",
       "    </tr>\n",
       "  </tbody>\n",
       "</table>\n"
      ],
      "text/plain": [
       "<pandas.io.formats.style.Styler at 0x277e8c04190>"
      ]
     },
     "execution_count": 9,
     "metadata": {},
     "output_type": "execute_result"
    }
   ],
   "source": [
    "# table for all conditions\n",
    "motivation_table = all_data.groupby(['condition','motivation']).agg({'motivation':'count'})\\\n",
    ".rename(columns={'motivation':'count'}).reset_index()\\\n",
    ".pivot(index='motivation',columns='condition',values='count')\\\n",
    ".fillna(0).astype(int).reset_index()\n",
    "\n",
    "# overall stats\n",
    "motivation_table['overall'] = all_data['motivation'].value_counts()\\\n",
    ".to_frame().sort_values(by='motivation')['count'].to_list()\n",
    "\n",
    "# counting rsd\n",
    "motivation_vs = []\n",
    "for i in range(motivation_table['motivation'].nunique()):\n",
    "    stds = motivation_table[['condition_1', 'condition_2', 'condition_3', 'control']].iloc[i].std()\n",
    "    means = motivation_table[['condition_1', 'condition_2', 'condition_3', 'control']].iloc[i].mean()\n",
    "    #print(f\"RSD for {\n",
    "    #motivation_table.reset_index()['motivation'].unique()[i]\n",
    "    #}: {((stds/means)*100):.2f}%\")\n",
    "    motivation_vs.append(f\"{((stds/means) * 100):.2f}%\")\n",
    "motivation_table['rsd'] = motivation_vs\n",
    "motivation_table.columns.name = None\n",
    "\n",
    "#styling table\n",
    "motivation_table = motivation_table.style\\\n",
    ".set_caption(\"<b>Table 6. Motivation Statistics<b>\")\\\n",
    ".map(highlight2, subset=['overall'])\\\n",
    ".map(highlight1, subset=['rsd'])\n",
    "\n",
    "motivation_table"
   ]
  },
  {
   "cell_type": "code",
   "execution_count": 10,
   "id": "c954807b-fd61-43a0-b215-d5664b1dfaac",
   "metadata": {},
   "outputs": [
    {
     "data": {
      "text/html": [
       "<style type=\"text/css\">\n",
       "#T_675ae_row0_col5, #T_675ae_row1_col5, #T_675ae_row2_col5, #T_675ae_row3_col5, #T_675ae_row4_col5 {\n",
       "  background-color: #d0d0d0;\n",
       "}\n",
       "#T_675ae_row0_col6, #T_675ae_row1_col6, #T_675ae_row2_col6, #T_675ae_row3_col6, #T_675ae_row4_col6 {\n",
       "  background-color: #e0e0e0;\n",
       "}\n",
       "</style>\n",
       "<table id=\"T_675ae\">\n",
       "  <caption><b>Table 7. Confidence Statistics<b></caption>\n",
       "  <thead>\n",
       "    <tr>\n",
       "      <th class=\"blank level0\" >&nbsp;</th>\n",
       "      <th id=\"T_675ae_level0_col0\" class=\"col_heading level0 col0\" >confidence_guess</th>\n",
       "      <th id=\"T_675ae_level0_col1\" class=\"col_heading level0 col1\" >condition_1</th>\n",
       "      <th id=\"T_675ae_level0_col2\" class=\"col_heading level0 col2\" >condition_2</th>\n",
       "      <th id=\"T_675ae_level0_col3\" class=\"col_heading level0 col3\" >condition_3</th>\n",
       "      <th id=\"T_675ae_level0_col4\" class=\"col_heading level0 col4\" >control</th>\n",
       "      <th id=\"T_675ae_level0_col5\" class=\"col_heading level0 col5\" >overall</th>\n",
       "      <th id=\"T_675ae_level0_col6\" class=\"col_heading level0 col6\" >rsd</th>\n",
       "    </tr>\n",
       "  </thead>\n",
       "  <tbody>\n",
       "    <tr>\n",
       "      <th id=\"T_675ae_level0_row0\" class=\"row_heading level0 row0\" >0</th>\n",
       "      <td id=\"T_675ae_row0_col0\" class=\"data row0 col0\" >Extremely</td>\n",
       "      <td id=\"T_675ae_row0_col1\" class=\"data row0 col1\" >1</td>\n",
       "      <td id=\"T_675ae_row0_col2\" class=\"data row0 col2\" >0</td>\n",
       "      <td id=\"T_675ae_row0_col3\" class=\"data row0 col3\" >0</td>\n",
       "      <td id=\"T_675ae_row0_col4\" class=\"data row0 col4\" >1</td>\n",
       "      <td id=\"T_675ae_row0_col5\" class=\"data row0 col5\" >2</td>\n",
       "      <td id=\"T_675ae_row0_col6\" class=\"data row0 col6\" >115.47%</td>\n",
       "    </tr>\n",
       "    <tr>\n",
       "      <th id=\"T_675ae_level0_row1\" class=\"row_heading level0 row1\" >1</th>\n",
       "      <td id=\"T_675ae_row1_col0\" class=\"data row1 col0\" >Moderately</td>\n",
       "      <td id=\"T_675ae_row1_col1\" class=\"data row1 col1\" >9</td>\n",
       "      <td id=\"T_675ae_row1_col2\" class=\"data row1 col2\" >11</td>\n",
       "      <td id=\"T_675ae_row1_col3\" class=\"data row1 col3\" >5</td>\n",
       "      <td id=\"T_675ae_row1_col4\" class=\"data row1 col4\" >7</td>\n",
       "      <td id=\"T_675ae_row1_col5\" class=\"data row1 col5\" >32</td>\n",
       "      <td id=\"T_675ae_row1_col6\" class=\"data row1 col6\" >32.27%</td>\n",
       "    </tr>\n",
       "    <tr>\n",
       "      <th id=\"T_675ae_level0_row2\" class=\"row_heading level0 row2\" >2</th>\n",
       "      <td id=\"T_675ae_row2_col0\" class=\"data row2 col0\" >Not at all</td>\n",
       "      <td id=\"T_675ae_row2_col1\" class=\"data row2 col1\" >1</td>\n",
       "      <td id=\"T_675ae_row2_col2\" class=\"data row2 col2\" >0</td>\n",
       "      <td id=\"T_675ae_row2_col3\" class=\"data row2 col3\" >0</td>\n",
       "      <td id=\"T_675ae_row2_col4\" class=\"data row2 col4\" >0</td>\n",
       "      <td id=\"T_675ae_row2_col5\" class=\"data row2 col5\" >1</td>\n",
       "      <td id=\"T_675ae_row2_col6\" class=\"data row2 col6\" >200.00%</td>\n",
       "    </tr>\n",
       "    <tr>\n",
       "      <th id=\"T_675ae_level0_row3\" class=\"row_heading level0 row3\" >3</th>\n",
       "      <td id=\"T_675ae_row3_col0\" class=\"data row3 col0\" >Slightly</td>\n",
       "      <td id=\"T_675ae_row3_col1\" class=\"data row3 col1\" >2</td>\n",
       "      <td id=\"T_675ae_row3_col2\" class=\"data row3 col2\" >2</td>\n",
       "      <td id=\"T_675ae_row3_col3\" class=\"data row3 col3\" >4</td>\n",
       "      <td id=\"T_675ae_row3_col4\" class=\"data row3 col4\" >4</td>\n",
       "      <td id=\"T_675ae_row3_col5\" class=\"data row3 col5\" >12</td>\n",
       "      <td id=\"T_675ae_row3_col6\" class=\"data row3 col6\" >38.49%</td>\n",
       "    </tr>\n",
       "    <tr>\n",
       "      <th id=\"T_675ae_level0_row4\" class=\"row_heading level0 row4\" >4</th>\n",
       "      <td id=\"T_675ae_row4_col0\" class=\"data row4 col0\" >Very</td>\n",
       "      <td id=\"T_675ae_row4_col1\" class=\"data row4 col1\" >2</td>\n",
       "      <td id=\"T_675ae_row4_col2\" class=\"data row4 col2\" >2</td>\n",
       "      <td id=\"T_675ae_row4_col3\" class=\"data row4 col3\" >6</td>\n",
       "      <td id=\"T_675ae_row4_col4\" class=\"data row4 col4\" >3</td>\n",
       "      <td id=\"T_675ae_row4_col5\" class=\"data row4 col5\" >13</td>\n",
       "      <td id=\"T_675ae_row4_col6\" class=\"data row4 col6\" >58.25%</td>\n",
       "    </tr>\n",
       "  </tbody>\n",
       "</table>\n"
      ],
      "text/plain": [
       "<pandas.io.formats.style.Styler at 0x277e8c042d0>"
      ]
     },
     "execution_count": 10,
     "metadata": {},
     "output_type": "execute_result"
    }
   ],
   "source": [
    "# cleansing spelling error\n",
    "all_data.loc[all_data['confidence_guess'] == 'Exteremly', ['condition', 'confidence_guess']] = ['condition_1', 'Extremely']\n",
    "\n",
    "# table for all conditions\n",
    "confidence_table = all_data.groupby(['condition','confidence_guess']).agg({'confidence_guess':'count'})\\\n",
    ".rename(columns={'confidence_guess':'count'}).reset_index()\\\n",
    ".pivot(index='confidence_guess',columns='condition',values='count')\\\n",
    ".fillna(0).astype(int).reset_index()\n",
    "\n",
    "# overall stats\n",
    "confidence_table['overall'] = all_data['confidence_guess'].value_counts()\\\n",
    ".to_frame().sort_values(by='confidence_guess')['count'].to_list()\n",
    "\n",
    "# counting rsd\n",
    "confidence_vs = []\n",
    "for i in range(confidence_table['confidence_guess'].nunique()):\n",
    "    stds = confidence_table[['condition_1', 'condition_2', 'condition_3', 'control']].iloc[i].std()\n",
    "    means = confidence_table[['condition_1', 'condition_2', 'condition_3', 'control']].iloc[i].mean()\n",
    "    #print(f\"RSD for {\n",
    "    #confidence_table.reset_index()['confidence_guess'].unique()[i]\n",
    "    #}: {((stds/means)*100):.2f}%\")\n",
    "    confidence_vs.append(f\"{((stds/means) * 100):.2f}%\")\n",
    "confidence_table['rsd'] = confidence_vs\n",
    "confidence_table.columns.name = None\n",
    "\n",
    "#styling table\n",
    "confidence_table = confidence_table.style\\\n",
    ".set_caption('<b>Table 7. Confidence Statistics<b>')\\\n",
    ".map(highlight2, subset=['overall'])\\\n",
    ".map(highlight1, subset=['rsd'])\n",
    "\n",
    "confidence_table"
   ]
  },
  {
   "cell_type": "markdown",
   "id": "a1aab6cc-b820-483a-8221-eabd9000dfa0",
   "metadata": {},
   "source": [
    "<div style=\"background-color: lightblue; padding: 10px;\">\n",
    "\n",
    "# Part 2: Experimental Data (Inferential Stats)"
   ]
  },
  {
   "cell_type": "markdown",
   "id": "0b5c75f5-e9c1-460a-8ad4-43c741ffb845",
   "metadata": {},
   "source": [
    "## Hypothesis 1: Prediction-Actual Time Discrepancy in Intervention VS. Controls\n",
    "\n",
    "> H1: Significant difference in `error` between control and experimental conditions <p>\n",
    "> H0: No significant difference in `error`"
   ]
  },
  {
   "cell_type": "markdown",
   "id": "0597c6a8-805e-4f77-a2ce-7e915b235bb2",
   "metadata": {},
   "source": [
    "**For the statistical test (such as ANOVA) we normally need to check:**\n",
    "\n",
    "1) Normal distribution in the samples - Shapiro-Wilk test\n",
    "2) Homogeneity of variance - Levin's test\n",
    "\n",
    "(In both tests we assume p>0.05 is satisfactory to proceed to ANOVA)"
   ]
  },
  {
   "cell_type": "code",
   "execution_count": 11,
   "id": "e994ec0c-af2b-42f4-b0c1-1e8dea502ad0",
   "metadata": {},
   "outputs": [],
   "source": [
    "hyp1_data = all_data[['simple_condition', 'error']]\n",
    "experiment = hyp1_data.query('simple_condition==\"experiment\"')['error']\n",
    "control = hyp1_data.query('simple_condition==\"control\"')['error']"
   ]
  },
  {
   "cell_type": "markdown",
   "id": "7d446adc-2e55-4135-8bce-1e1846b2cc71",
   "metadata": {},
   "source": [
    "Next, we're checking for homogeneity of variance and normality(!)"
   ]
  },
  {
   "cell_type": "code",
   "execution_count": 12,
   "id": "fc4f5c5e-c4f2-4227-a3a4-a24eb2406e8a",
   "metadata": {},
   "outputs": [
    {
     "name": "stdout",
     "output_type": "stream",
     "text": [
      "1) Levene’s Test p-value: 0.9008353466325039\n",
      "Homogeneity: True\n",
      "\n",
      "2) Shapiro Test p-value for control group: 0.09055841577044696\n",
      "3) Shapiro Test p-value for experimental: 0.04277747303125376\n",
      "Normality: False\n"
     ]
    }
   ],
   "source": [
    "# checking for homogeneity of variance\n",
    "stat, p = levene(control, experiment)\n",
    "print(f\"1) Levene’s Test p-value: {p}\")\n",
    "print(f\"Homogeneity: {p>0.05}\")\n",
    "\n",
    "# checking for normal distribution\n",
    "print(f\"\\n2) Shapiro Test p-value for control group: {shapiro(control).pvalue}\")\n",
    "print(f\"3) Shapiro Test p-value for experimental: {shapiro(experiment).pvalue}\")\n",
    "print(f\"Normality: {shapiro(control).pvalue>0.05 and shapiro(experiment).pvalue>0.05}\")"
   ]
  },
  {
   "cell_type": "markdown",
   "id": "e3d70afb-1055-4511-bde8-a8a59d518f8b",
   "metadata": {},
   "source": [
    "**Experimental group is not normally distributed**\n",
    "\n",
    "Although ANOVA is not particularly sensitive to non-normal distributions, the test can still give a false positive result.\n",
    "Instead, we can use Mann-Whitney test of significant difference."
   ]
  },
  {
   "cell_type": "code",
   "execution_count": 13,
   "id": "01920760-822f-4bf3-818d-f6cbd5c22cb1",
   "metadata": {},
   "outputs": [
    {
     "name": "stdout",
     "output_type": "stream",
     "text": [
      "Mann-Whitney Test p-value: 3.47344959221516e-05\n",
      "Significance: True\n"
     ]
    }
   ],
   "source": [
    "# Mann-Whitney Stat Test\n",
    "u, p = mannwhitneyu(control, experiment)\n",
    "print(f\"Mann-Whitney Test p-value: {p}\")\n",
    "print(f\"Significance: {p<0.05}\")"
   ]
  },
  {
   "cell_type": "markdown",
   "id": "7d342efa-fdae-41ef-9b61-5ea62c78c36d",
   "metadata": {},
   "source": [
    "So, our results are statistically significant. We'll now find medians + stds for the data"
   ]
  },
  {
   "cell_type": "code",
   "execution_count": 116,
   "id": "8dc221f9-176d-459b-a30d-5c1c0c3f52fc",
   "metadata": {},
   "outputs": [
    {
     "data": {
      "image/png": "[encoded data removed]",
      "text/plain": [
       "<Figure size 640x480 with 1 Axes>"
      ]
     },
     "metadata": {},
     "output_type": "display_data"
    }
   ],
   "source": [
    "# calculating meadians and std\n",
    "h1_medians = hyp1_data.groupby('simple_condition').agg({'error':'median'})\\\n",
    ".reset_index().rename(columns={'error':'medians'})\n",
    "h1_medians['std'] = [control.std(), experiment.std()]\n",
    "\n",
    "# plotting plotting plotting\n",
    "sns.boxplot(x = 'simple_condition', y = 'error', data = hyp1_data, \n",
    "            boxprops=dict(facecolor=\"white\", edgecolor=\"black\"), \n",
    "            whiskerprops=dict(color=\"black\"), capprops=dict(color=\"black\"),\n",
    "            medianprops=dict(color=\"black\"), flierprops=dict(marker='o', markersize=5, alpha=0.5))\n",
    "\n",
    "plt.plot(h1_medians.simple_condition, h1_medians.medians, color='black', linestyle='--', marker='o')\n",
    "\n",
    "for i, txt in enumerate(h1_medians.medians):\n",
    "    plt.text(h1_medians.simple_condition[i], h1_medians.medians[i], f'{txt:.2f} min', \n",
    "             ha='right', va='bottom', color='black', fontsize=10)\n",
    "\n",
    "plt.xlabel(\"Condition\", fontsize=12)\n",
    "plt.ylabel(\"Prediction Discrepancy, min\", fontsize=12)\n",
    "plt.title(\"Prediction Discrepancy Across Conditions\\n\", fontsize=12)\n",
    "\n",
    "plt.show()"
   ]
  },
  {
   "cell_type": "code",
   "execution_count": 15,
   "id": "f8c6aca9-4f9b-4834-88e9-6a12c943ac56",
   "metadata": {},
   "outputs": [
    {
     "data": {
      "text/html": [
       "<div>\n",
       "<style scoped>\n",
       "    .dataframe tbody tr th:only-of-type {\n",
       "        vertical-align: middle;\n",
       "    }\n",
       "\n",
       "    .dataframe tbody tr th {\n",
       "        vertical-align: top;\n",
       "    }\n",
       "\n",
       "    .dataframe thead th {\n",
       "        text-align: right;\n",
       "    }\n",
       "</style>\n",
       "<table border=\"1\" class=\"dataframe\">\n",
       "  <thead>\n",
       "    <tr style=\"text-align: right;\">\n",
       "      <th></th>\n",
       "      <th>simple_condition</th>\n",
       "      <th>medians</th>\n",
       "      <th>std</th>\n",
       "    </tr>\n",
       "  </thead>\n",
       "  <tbody>\n",
       "    <tr>\n",
       "      <th>0</th>\n",
       "      <td>control</td>\n",
       "      <td>19.42</td>\n",
       "      <td>9.443981</td>\n",
       "    </tr>\n",
       "    <tr>\n",
       "      <th>1</th>\n",
       "      <td>experiment</td>\n",
       "      <td>4.68</td>\n",
       "      <td>10.088471</td>\n",
       "    </tr>\n",
       "  </tbody>\n",
       "</table>\n",
       "</div>"
      ],
      "text/plain": [
       "  simple_condition  medians        std\n",
       "0          control    19.42   9.443981\n",
       "1       experiment     4.68  10.088471"
      ]
     },
     "execution_count": 15,
     "metadata": {},
     "output_type": "execute_result"
    }
   ],
   "source": [
    "h1_medians"
   ]
  },
  {
   "cell_type": "markdown",
   "id": "c840a3bb-afcb-48d9-a766-97127bfdc5fb",
   "metadata": {},
   "source": [
    "### Result: Statistically Significant Difference!\n",
    "\n",
    "**We reject H0** - There is a significant difference in `error` between control and experimental group errors\n",
    "\n",
    "- See table `h1_medians` with medians and std for concrete numbers\n"
   ]
  },
  {
   "cell_type": "markdown",
   "id": "b511ad63-8dc2-4d88-a06c-413d74b95e42",
   "metadata": {},
   "source": [
    "## Hypothesis 2*: Third-Person VS Other Interventions\n",
    "\n",
    "> H1: Significant difference in `error` between 3rd person VS other interventions <p>\n",
    "> H0: No significant difference in `error`\n",
    "\n",
    "*This is your previous H2"
   ]
  },
  {
   "cell_type": "code",
   "execution_count": 16,
   "id": "1693d28f-8ec2-45b8-9c89-6b1ab4db1cbb",
   "metadata": {},
   "outputs": [],
   "source": [
    "# dividing sample of experimental group into third-person and non-third-person\n",
    "def h2_condition(condition):\n",
    "    if condition == 'condition_3':\n",
    "        return 'third_person'\n",
    "    else:\n",
    "        return 'other'\n",
    "\n",
    "h2_data = all_data[['condition', 'simple_condition', 'error']].copy()\n",
    "h2_data['h2_condition'] = all_data['condition'].apply(h2_condition)\n",
    "h2_data = h2_data.drop(['condition', 'simple_condition'], axis=1)\n",
    "\n",
    "# our 2 conditions\n",
    "experimental = h2_data.query('h2_condition==\"other\"')['error']\n",
    "third_person = h2_data.query('h2_condition==\"third_person\"')['error']"
   ]
  },
  {
   "cell_type": "code",
   "execution_count": 17,
   "id": "66d21539-999a-4c3f-bb89-cd08eb0b12bf",
   "metadata": {},
   "outputs": [
    {
     "name": "stdout",
     "output_type": "stream",
     "text": [
      "1) Levene’s Test p-value: 0.01287595268451639\n",
      "Homogeneity: False\n",
      "\n",
      "2) Shapiro Test p-value for other conditions: 0.14246854326816194\n",
      "3) Shapiro Test p-value for third-person condition: 0.9945882179153058\n",
      "Normality: True\n"
     ]
    }
   ],
   "source": [
    "# Checking for homogeneity of variance\n",
    "stat, p = levene(experimental, third_person)\n",
    "print(f\"1) Levene’s Test p-value: {p}\")\n",
    "print(f\"Homogeneity: {p>0.05}\")\n",
    "\n",
    "# Checking for normal distribution\n",
    "print(f\"\\n2) Shapiro Test p-value for other conditions: {shapiro(experimental).pvalue}\")\n",
    "print(f\"3) Shapiro Test p-value for third-person condition: {shapiro(third_person).pvalue}\")\n",
    "print(f\"Normality: {shapiro(experimental).pvalue>0.05 and shapiro(third_person).pvalue>0.05}\")"
   ]
  },
  {
   "cell_type": "markdown",
   "id": "4bd88f29-6caf-447e-be35-04990bc86d0a",
   "metadata": {},
   "source": [
    "**Our samples don't have homogenous variance**\n",
    "\n",
    "But they are normally distributed, which means we can just apply t-test with a specification of no equal variance (Welch's t-test)"
   ]
  },
  {
   "cell_type": "code",
   "execution_count": 18,
   "id": "53d7376d-1fbe-42d7-aad0-f46d66d5d2b1",
   "metadata": {},
   "outputs": [
    {
     "name": "stdout",
     "output_type": "stream",
     "text": [
      "Welch's t-test p-value: 0.2341591429219533\n",
      "Significance: False\n",
      "\n",
      "Mann-Whitney Test p-value: 0.25269501277998485\n",
      "Significance: False\n"
     ]
    }
   ],
   "source": [
    "# Welch's T-test\n",
    "_, p = stats.ttest_ind(experimental, third_person, equal_var=False)\n",
    "print(f\"Welch's t-test p-value: {p}\")\n",
    "print(f\"Significance: {p<0.05}\")\n",
    "\n",
    "# And just to compare it with Mann-Whitney (it also works here)\n",
    "# Mann-Whitney\n",
    "u, p = mannwhitneyu(experimental, third_person)\n",
    "print(f\"\\nMann-Whitney Test p-value: {p}\")\n",
    "print(f\"Significance: {p<0.05}\")"
   ]
  },
  {
   "cell_type": "code",
   "execution_count": 115,
   "id": "7cd81fb3-b357-4d59-b2c8-64a5888fed70",
   "metadata": {},
   "outputs": [
    {
     "data": {
      "image/png": "[encoded data removed]",
      "text/plain": [
       "<Figure size 640x480 with 1 Axes>"
      ]
     },
     "metadata": {},
     "output_type": "display_data"
    }
   ],
   "source": [
    "# medians and stds\n",
    "h2_medians = h2_data.groupby('h2_condition').agg({'error':'median'}).reset_index()\n",
    "h2_medians['std'] = [experimental.std(), third_person.std()] \n",
    "h2_medians = h2_medians.rename(columns={'h2_condition':'condition', 'error':'medians'})\n",
    "\n",
    "# plotting plotting plotting\n",
    "sns.boxplot(x = 'h2_condition', y = 'error', data = h2_data, \n",
    "            boxprops=dict(facecolor=\"white\", edgecolor=\"black\"), \n",
    "            whiskerprops=dict(color=\"black\"), capprops=dict(color=\"black\"),\n",
    "            medianprops=dict(color=\"black\"), flierprops=dict(marker='o', markersize=5, alpha=0.5))\n",
    "\n",
    "plt.plot(h2_medians.condition, h2_medians.medians, color='black', linestyle='--', marker='o')\n",
    "\n",
    "for i, txt in enumerate(h2_medians.medians):\n",
    "    plt.text(h2_medians.condition[i], h2_medians.medians[i], f'{txt:.2f} min', \n",
    "             ha='right', va='bottom', color='black', fontsize=10)\n",
    "\n",
    "plt.xlabel(\"Condition\", fontsize=12)\n",
    "plt.ylabel(\"Prediction Discrepancy, min\", fontsize=12)\n",
    "plt.title(\"Prediction Discrepancy in Third-Person Intervention VS. Other Interventions\\n\", fontsize=12)\n",
    "\n",
    "plt.show()"
   ]
  },
  {
   "cell_type": "code",
   "execution_count": 20,
   "id": "420db100-b32f-4259-9336-b457a9fa01b0",
   "metadata": {},
   "outputs": [
    {
     "data": {
      "text/html": [
       "<div>\n",
       "<style scoped>\n",
       "    .dataframe tbody tr th:only-of-type {\n",
       "        vertical-align: middle;\n",
       "    }\n",
       "\n",
       "    .dataframe tbody tr th {\n",
       "        vertical-align: top;\n",
       "    }\n",
       "\n",
       "    .dataframe thead th {\n",
       "        text-align: right;\n",
       "    }\n",
       "</style>\n",
       "<table border=\"1\" class=\"dataframe\">\n",
       "  <thead>\n",
       "    <tr style=\"text-align: right;\">\n",
       "      <th></th>\n",
       "      <th>condition</th>\n",
       "      <th>medians</th>\n",
       "      <th>std</th>\n",
       "    </tr>\n",
       "  </thead>\n",
       "  <tbody>\n",
       "    <tr>\n",
       "      <th>0</th>\n",
       "      <td>other</td>\n",
       "      <td>6.80</td>\n",
       "      <td>12.992238</td>\n",
       "    </tr>\n",
       "    <tr>\n",
       "      <th>1</th>\n",
       "      <td>third_person</td>\n",
       "      <td>4.68</td>\n",
       "      <td>6.130537</td>\n",
       "    </tr>\n",
       "  </tbody>\n",
       "</table>\n",
       "</div>"
      ],
      "text/plain": [
       "      condition  medians        std\n",
       "0         other     6.80  12.992238\n",
       "1  third_person     4.68   6.130537"
      ]
     },
     "execution_count": 20,
     "metadata": {},
     "output_type": "execute_result"
    }
   ],
   "source": [
    "h2_medians"
   ]
  },
  {
   "cell_type": "markdown",
   "id": "21b97506-36d9-41d2-b3da-4d74acbfd82b",
   "metadata": {},
   "source": [
    "### Result: No Statistically Significant Difference\n",
    "\n",
    "**We stick to H0** - There is no significant difference in `error` between third-person and the rest of experimental groups (p=0.23)\n",
    "\n",
    "- See table `h2_medians` with medians and std for concrete numbers"
   ]
  },
  {
   "cell_type": "markdown",
   "id": "e3ef35f8-0484-4c16-9ca4-573862ba8d39",
   "metadata": {},
   "source": [
    "## Hypothesis 3: Any of the Interventions Most Effective?\n",
    "\n",
    "> H1: Significant difference in `error` in one of the experimental groups <p>\n",
    "> H0: No significant difference in `error` in either of the groups"
   ]
  },
  {
   "cell_type": "code",
   "execution_count": 21,
   "id": "490f8859-a233-4c71-9db8-27cc8b01ece8",
   "metadata": {},
   "outputs": [
    {
     "name": "stdout",
     "output_type": "stream",
     "text": [
      "Levene’s Test p-value: 0.03254292751381182\n",
      "Homogeneity: False\n",
      "\n",
      "Shapiro test p-value: 0.3001859014376911\n",
      "Shapiro test p-value: 0.49778715868102014\n",
      "Shapiro test p-value: 0.9945882179153058\n",
      "Normality: True\n"
     ]
    }
   ],
   "source": [
    "exp_conditions = [all_data[all_data['condition']== i]['error'] \n",
    "              for i in all_data['condition'].unique() if i !='control']\n",
    "\n",
    "# Checking for homogeneity of variance\n",
    "stat, p = levene(*exp_conditions)\n",
    "print(f\"Levene’s Test p-value: {p}\")\n",
    "print(f\"Homogeneity: {p>0.05}\\n\")\n",
    "\n",
    "# Checking for normal distribution\n",
    "pvalues = []\n",
    "normality = True\n",
    "for i in exp_conditions:\n",
    "    pvalues.append(shapiro(i).pvalue)\n",
    "    print(f\"Shapiro test p-value: {shapiro(i).pvalue}\")\n",
    "for i in pvalues:\n",
    "    if i < 0.05:\n",
    "        normality = False\n",
    "print(f\"Normality: {normality}\")"
   ]
  },
  {
   "cell_type": "markdown",
   "id": "80cb95a7-f224-48d5-90a2-b75e523d27d3",
   "metadata": {},
   "source": [
    "I will be using **Kruskal-Wallis test** (non-parametric alternative for Anova) here (but please feel free to use normal ANOVA cause distributions are indeed normal)"
   ]
  },
  {
   "cell_type": "code",
   "execution_count": 22,
   "id": "0d3ee8b6-0dc2-4707-8f4a-15bbd2ab00ed",
   "metadata": {},
   "outputs": [
    {
     "name": "stdout",
     "output_type": "stream",
     "text": [
      "Kruskal-Wallis test: p=0.7292274492242168\n",
      "Significance: False\n"
     ]
    }
   ],
   "source": [
    "# Kruskal-Wallis\n",
    "h_stat, kw_p = stats.kruskal(*exp_conditions)\n",
    "print(f\"Kruskal-Wallis test: p={kw_p}\")\n",
    "print(f\"Significance: {kw_p<0.05}\")"
   ]
  },
  {
   "cell_type": "code",
   "execution_count": 142,
   "id": "ac5eaeb9-5e96-40d1-9818-3719513e8865",
   "metadata": {},
   "outputs": [
    {
     "data": {
      "image/png": "[encoded data removed]",
      "text/plain": [
       "<Figure size 640x480 with 1 Axes>"
      ]
     },
     "metadata": {},
     "output_type": "display_data"
    }
   ],
   "source": [
    "# medians and stds\n",
    "h3_medians = all_data.query('condition!=\"control\"')\\\n",
    ".groupby('condition').agg({'error':'median'}).reset_index().rename(columns={'error':'medians', 'h2_condition':'condition'})\n",
    "\n",
    "h3_medians['std'] = [all_data.query(f\"condition==@i\")['error'].std() \n",
    "                     for i in h3_medians.condition.unique()]\n",
    "\n",
    "#plotting plotting plotting\n",
    "sns.boxplot(x=all_data[all_data['condition']!='control']['condition'],\n",
    "            y=all_data['error'],\n",
    "            data = all_data,\n",
    "            boxprops=dict(facecolor=\"white\", edgecolor=\"black\"), \n",
    "            whiskerprops=dict(color=\"black\"), capprops=dict(color=\"black\"),\n",
    "            medianprops=dict(color=\"black\"), flierprops=dict(marker='o', markersize=5, alpha=0.5))\n",
    "\n",
    "plt.plot(h3_medians.condition, h3_medians.medians, color='black', linestyle='--', marker='o')\n",
    "\n",
    "for i, txt in enumerate(h3_medians.medians):\n",
    "    plt.text(h3_medians.condition[i], h3_medians.medians[i], f'{txt:.2f} min', \n",
    "             ha='right', va='bottom', color='black', fontsize=10)\n",
    "\n",
    "plt.xlabel(\"\\nCondition\", fontsize=12)\n",
    "plt.ylabel(\"Prediction Discrepancy, min\", fontsize=12)\n",
    "plt.title(\"Prediction Discrepancy Across Conditions\\n\", fontsize=12)\n",
    "\n",
    "plt.show()"
   ]
  },
  {
   "cell_type": "code",
   "execution_count": 24,
   "id": "d0fa0896-4f0f-4c86-861d-8e09b1470d95",
   "metadata": {},
   "outputs": [
    {
     "data": {
      "text/html": [
       "<div>\n",
       "<style scoped>\n",
       "    .dataframe tbody tr th:only-of-type {\n",
       "        vertical-align: middle;\n",
       "    }\n",
       "\n",
       "    .dataframe tbody tr th {\n",
       "        vertical-align: top;\n",
       "    }\n",
       "\n",
       "    .dataframe thead th {\n",
       "        text-align: right;\n",
       "    }\n",
       "</style>\n",
       "<table border=\"1\" class=\"dataframe\">\n",
       "  <thead>\n",
       "    <tr style=\"text-align: right;\">\n",
       "      <th></th>\n",
       "      <th>condition</th>\n",
       "      <th>medians</th>\n",
       "      <th>std</th>\n",
       "    </tr>\n",
       "  </thead>\n",
       "  <tbody>\n",
       "    <tr>\n",
       "      <th>0</th>\n",
       "      <td>condition_1</td>\n",
       "      <td>4.17</td>\n",
       "      <td>8.070103</td>\n",
       "    </tr>\n",
       "    <tr>\n",
       "      <th>1</th>\n",
       "      <td>condition_2</td>\n",
       "      <td>5.00</td>\n",
       "      <td>14.141162</td>\n",
       "    </tr>\n",
       "    <tr>\n",
       "      <th>2</th>\n",
       "      <td>condition_3</td>\n",
       "      <td>4.68</td>\n",
       "      <td>6.130537</td>\n",
       "    </tr>\n",
       "  </tbody>\n",
       "</table>\n",
       "</div>"
      ],
      "text/plain": [
       "     condition  medians        std\n",
       "0  condition_1     4.17   8.070103\n",
       "1  condition_2     5.00  14.141162\n",
       "2  condition_3     4.68   6.130537"
      ]
     },
     "execution_count": 24,
     "metadata": {},
     "output_type": "execute_result"
    }
   ],
   "source": [
    "h3_medians"
   ]
  },
  {
   "cell_type": "markdown",
   "id": "bfa9193d-23e2-42d9-a640-670856b84a79",
   "metadata": {},
   "source": [
    "### Result: No Statistical Difference\n",
    "\n",
    "**We stick to H0** - There is no significant difference in `error` among the experimental groups\n",
    "\n",
    "- See table `h3_medians` with medians and std for concrete numbers"
   ]
  },
  {
   "cell_type": "markdown",
   "id": "3628f7fe-499a-48bb-8930-9b5b4691d8f5",
   "metadata": {},
   "source": [
    "----"
   ]
  },
  {
   "cell_type": "markdown",
   "id": "23830f4d-96b6-4d21-ad7d-02375c83fa34",
   "metadata": {},
   "source": [
    "<div style=\"background-color: lightblue; padding: 10px;\">\n",
    "\n",
    "# Part 3: Other Stuff"
   ]
  },
  {
   "cell_type": "markdown",
   "id": "13110bed-6d4d-43b8-afe5-f219d6cfb415",
   "metadata": {},
   "source": [
    "### 1) Do Skills Significantly Influence Intervention Effects? (Disclaimer: Not Significant)"
   ]
  },
  {
   "cell_type": "code",
   "execution_count": 25,
   "id": "008adccb-2bca-4d5f-b8f7-c6bb11bdbc4c",
   "metadata": {},
   "outputs": [
    {
     "data": {
      "text/html": [
       "<style type=\"text/css\">\n",
       "</style>\n",
       "<table id=\"T_71274\">\n",
       "  <caption><b>Median Prediction Discrepancy by Skill<b></caption>\n",
       "  <thead>\n",
       "    <tr>\n",
       "      <th class=\"blank level0\" >&nbsp;</th>\n",
       "      <th id=\"T_71274_level0_col0\" class=\"col_heading level0 col0\" >control</th>\n",
       "      <th id=\"T_71274_level0_col1\" class=\"col_heading level0 col1\" >experiment</th>\n",
       "    </tr>\n",
       "    <tr>\n",
       "      <th class=\"index_name level0\" >skills</th>\n",
       "      <th class=\"blank col0\" >&nbsp;</th>\n",
       "      <th class=\"blank col1\" >&nbsp;</th>\n",
       "    </tr>\n",
       "  </thead>\n",
       "  <tbody>\n",
       "    <tr>\n",
       "      <th id=\"T_71274_level0_row0\" class=\"row_heading level0 row0\" >Advanced</th>\n",
       "      <td id=\"T_71274_row0_col0\" class=\"data row0 col0\" >16.015000</td>\n",
       "      <td id=\"T_71274_row0_col1\" class=\"data row0 col1\" >3.050000</td>\n",
       "    </tr>\n",
       "    <tr>\n",
       "      <th id=\"T_71274_level0_row1\" class=\"row_heading level0 row1\" >Beginner</th>\n",
       "      <td id=\"T_71274_row1_col0\" class=\"data row1 col0\" >nan</td>\n",
       "      <td id=\"T_71274_row1_col1\" class=\"data row1 col1\" >2.250000</td>\n",
       "    </tr>\n",
       "    <tr>\n",
       "      <th id=\"T_71274_level0_row2\" class=\"row_heading level0 row2\" >Expert</th>\n",
       "      <td id=\"T_71274_row2_col0\" class=\"data row2 col0\" >24.930000</td>\n",
       "      <td id=\"T_71274_row2_col1\" class=\"data row2 col1\" >5.570000</td>\n",
       "    </tr>\n",
       "    <tr>\n",
       "      <th id=\"T_71274_level0_row3\" class=\"row_heading level0 row3\" >Intermediate</th>\n",
       "      <td id=\"T_71274_row3_col0\" class=\"data row3 col0\" >19.460000</td>\n",
       "      <td id=\"T_71274_row3_col1\" class=\"data row3 col1\" >7.360000</td>\n",
       "    </tr>\n",
       "  </tbody>\n",
       "</table>\n"
      ],
      "text/plain": [
       "<pandas.io.formats.style.Styler at 0x277eae839d0>"
      ]
     },
     "execution_count": 25,
     "metadata": {},
     "output_type": "execute_result"
    }
   ],
   "source": [
    "# median prediction discrepancy in conditions by skill lecel\n",
    "skills_medians = all_data[['simple_condition','skills','error']]\\\n",
    ".groupby(['simple_condition','skills']).agg({'error':'median'}).reset_index()\\\n",
    ".pivot(index='skills', columns='simple_condition', values='error')\n",
    "skills_medians.columns.name = None\n",
    "\n",
    "skills_medians = skills_medians.style\\\n",
    ".set_caption('<b>Median Prediction Discrepancy by Skill<b>')\n",
    "skills_medians"
   ]
  },
  {
   "cell_type": "markdown",
   "id": "cf9c2f86-d7e8-4777-b815-b935a548a7ca",
   "metadata": {},
   "source": [
    "Overall, the difference doesn't seem to be significant across skill levels - however, we can see difference in prediction discrepancy across conditions (see H1)"
   ]
  },
  {
   "cell_type": "code",
   "execution_count": 26,
   "id": "05375ef1-bbca-4b7e-9a19-d79b86e56f5c",
   "metadata": {
    "scrolled": true
   },
   "outputs": [
    {
     "name": "stdout",
     "output_type": "stream",
     "text": [
      "Shapiro test p-value: 0.43629622273481816\n",
      "Shapiro test p-value: 0.558813394881413\n",
      "Shapiro test p-value: 0.7610715463214623\n",
      "Shapiro test p-value: nan\n",
      "Normality: True\n",
      "\n",
      "Levene’s Test p-value: 0.37094369398861365\n",
      "Homogeneity: True\n"
     ]
    },
    {
     "name": "stderr",
     "output_type": "stream",
     "text": [
      "C:\\Users\\ltopuser\\AppData\\Local\\Temp\\ipykernel_9916\\1576609075.py:7: SmallSampleWarning: One or more sample arguments is too small; all returned values will be NaN. See documentation for sample size requirements.\n",
      "  score = shapiro(skill_conditions[i]['error']).pvalue\n"
     ]
    }
   ],
   "source": [
    "skill_conditions = [all_data[all_data['skills']==i][['skills','error']]\n",
    "                    for i in all_data['skills'].unique()]\n",
    "\n",
    "#checking normal distribution\n",
    "pvalues = []\n",
    "for i in range(len(skill_conditions)):\n",
    "    score = shapiro(skill_conditions[i]['error']).pvalue\n",
    "    pvalues.append(score)\n",
    "    print(f\"Shapiro test p-value: {score}\")\n",
    "normality = True\n",
    "for i in pvalues:\n",
    "    if not i>0.05:\n",
    "        normality==False\n",
    "print(f\"Normality: {normality}\")\n",
    "\n",
    "# checking for homogeneity of variance\n",
    "stat, p = levene(*[skill_conditions[i]['error'] for i in range(len(skill_conditions))])\n",
    "print(f\"\\nLevene’s Test p-value: {p}\")\n",
    "print(f\"Homogeneity: {p>0.05}\")"
   ]
  },
  {
   "cell_type": "markdown",
   "id": "06ddcf40-ae1c-46c8-881f-72fd1c120dff",
   "metadata": {},
   "source": [
    "Even though, both tests pass here, let's consider the distributions non-normal, because \"Beginner\" skill doesn't have a normality value. So let's choose **Kruskal-Wallis Test** (non-parametric for multiple groups)."
   ]
  },
  {
   "cell_type": "code",
   "execution_count": 27,
   "id": "2eb55f4b-6788-4648-bab6-8a223937e570",
   "metadata": {},
   "outputs": [
    {
     "name": "stdout",
     "output_type": "stream",
     "text": [
      "Kruskal-Wallis test: p=0.27368449329362027\n",
      "Significance: False\n"
     ]
    }
   ],
   "source": [
    "# Kruskal-Wallis\n",
    "h_stat, kw_p = stats.kruskal(*[skill_conditions[i]['error'] for i in range(len(skill_conditions))])\n",
    "print(f\"Kruskal-Wallis test: p={kw_p}\")\n",
    "print(f\"Significance: {kw_p<0.05}\")"
   ]
  },
  {
   "cell_type": "markdown",
   "id": "f727096f-443d-4496-8f03-a86fd84764de",
   "metadata": {},
   "source": [
    "**SKills do not statistically influence the planning error**"
   ]
  },
  {
   "cell_type": "markdown",
   "id": "9c141498-7f8f-4766-ac4c-586619f98bdf",
   "metadata": {},
   "source": [
    "### Result: No Significant Difference\n",
    "\n",
    "**We stick to H0** - Skills in presentation don't significantly influence planning"
   ]
  },
  {
   "cell_type": "markdown",
   "id": "060a7805-bba0-4ad4-9ea2-c6423e9543de",
   "metadata": {},
   "source": [
    "### 2) New H2 - Error Pre and Error Post Comparison (Disclaimer: Significant!)\n",
    "\n",
    "Q `measure_actual` is significantly closer to the `measure_pre` (pre-intervention prediction) or `measure_post`(post-intervention prediction)\n",
    "\n",
    "> **H1**: Significant difference between pre- and post-intervention prediction discrepancy (`error_pre` vs `error_post`) <p>\n",
    "> **H0**: No significant difference\n"
   ]
  },
  {
   "cell_type": "code",
   "execution_count": 28,
   "id": "e87edb50-5b82-4954-acf7-0d9882790bf7",
   "metadata": {},
   "outputs": [
    {
     "data": {
      "text/html": [
       "<style type=\"text/css\">\n",
       "</style>\n",
       "<table id=\"T_454ef\">\n",
       "  <caption><b>Pre-/ Post- Intervention Prediction Discrepancy<b></caption>\n",
       "  <thead>\n",
       "    <tr>\n",
       "      <th class=\"blank level0\" >&nbsp;</th>\n",
       "      <th id=\"T_454ef_level0_col0\" class=\"col_heading level0 col0\" >error</th>\n",
       "      <th id=\"T_454ef_level0_col1\" class=\"col_heading level0 col1\" >medians</th>\n",
       "      <th id=\"T_454ef_level0_col2\" class=\"col_heading level0 col2\" >std</th>\n",
       "    </tr>\n",
       "  </thead>\n",
       "  <tbody>\n",
       "    <tr>\n",
       "      <th id=\"T_454ef_level0_row0\" class=\"row_heading level0 row0\" >0</th>\n",
       "      <td id=\"T_454ef_row0_col0\" class=\"data row0 col0\" >error_pre</td>\n",
       "      <td id=\"T_454ef_row0_col1\" class=\"data row0 col1\" >10.000000</td>\n",
       "      <td id=\"T_454ef_row0_col2\" class=\"data row0 col2\" >10.836558</td>\n",
       "    </tr>\n",
       "    <tr>\n",
       "      <th id=\"T_454ef_level0_row1\" class=\"row_heading level0 row1\" >1</th>\n",
       "      <td id=\"T_454ef_row1_col0\" class=\"data row1 col0\" >error_post</td>\n",
       "      <td id=\"T_454ef_row1_col1\" class=\"data row1 col1\" >4.680000</td>\n",
       "      <td id=\"T_454ef_row1_col2\" class=\"data row1 col2\" >10.836558</td>\n",
       "    </tr>\n",
       "  </tbody>\n",
       "</table>\n"
      ],
      "text/plain": [
       "<pandas.io.formats.style.Styler at 0x277eae83b10>"
      ]
     },
     "execution_count": 28,
     "metadata": {},
     "output_type": "execute_result"
    }
   ],
   "source": [
    "errors_data = all_data[['simple_condition', 'measure_pre', 'measure_post', 'measure_actual']].copy()\\\n",
    ".query('simple_condition==\"experiment\"')\n",
    "errors_data['error_pre'] = errors_data['measure_actual'] - errors_data['measure_pre']\n",
    "errors_data['error_post'] = errors_data['measure_actual'] - errors_data['measure_post']\n",
    "\n",
    "# medians and std's in pre-intervention and post-intervention prediction discrepancy values \n",
    "errors_median = errors_data.agg({'error_pre':'median','error_post':'median'}).reset_index().rename(columns={'index':'error',0:'medians'})\n",
    "errors_median['std'] = [errors_data.error_pre.std(), errors_data.error_pre.std()]\n",
    "errors_median\n",
    "\n",
    "errors_table = errors_median.style\\\n",
    ".set_caption('<b>Pre-/ Post- Intervention Prediction Discrepancy<b>')\n",
    "errors_table"
   ]
  },
  {
   "cell_type": "code",
   "execution_count": 29,
   "id": "353cd9d5-5bc0-451c-84b0-4149ccb46039",
   "metadata": {},
   "outputs": [
    {
     "name": "stdout",
     "output_type": "stream",
     "text": [
      "0.7368702437833269\n",
      "0.04277747303125376\n"
     ]
    }
   ],
   "source": [
    "# just quickly checking p-values\n",
    "print(shapiro(errors_data.error_pre).pvalue)\n",
    "print(shapiro(errors_data.error_post).pvalue)"
   ]
  },
  {
   "cell_type": "markdown",
   "id": "4c0d871a-ed4c-4343-8771-00662fc6ca48",
   "metadata": {},
   "source": [
    "Not everything is normally distributed, so **Mann-Whitney**:"
   ]
  },
  {
   "cell_type": "code",
   "execution_count": 30,
   "id": "61c65622-ee55-445c-9e9b-44fda14aeba4",
   "metadata": {},
   "outputs": [
    {
     "name": "stdout",
     "output_type": "stream",
     "text": [
      "Mann-Whitney Test p-value: 0.0022536436784814473\n",
      "Significance: True\n"
     ]
    }
   ],
   "source": [
    "# Mann-Whitney\n",
    "u, p = mannwhitneyu(errors_data.error_pre, errors_data.error_post)\n",
    "print(f\"Mann-Whitney Test p-value: {p}\")\n",
    "print(f\"Significance: {p<0.05}\")"
   ]
  },
  {
   "cell_type": "markdown",
   "id": "d6cc7351-a7c2-45ba-ac69-a868ad7ee900",
   "metadata": {},
   "source": [
    "The results are **statistically significant**, so on to plotting"
   ]
  },
  {
   "cell_type": "code",
   "execution_count": 143,
   "id": "439a2275-8685-42b9-8a6d-6b68e97d2b78",
   "metadata": {},
   "outputs": [
    {
     "data": {
      "text/plain": [
       "Text(0.5, 1.0, 'Pre-/ Post-Intervention Prediction Discrepancy\\n')"
      ]
     },
     "execution_count": 143,
     "metadata": {},
     "output_type": "execute_result"
    },
    {
     "data": {
      "image/png": "[encoded data removed]",
      "text/plain": [
       "<Figure size 640x480 with 1 Axes>"
      ]
     },
     "metadata": {},
     "output_type": "display_data"
    }
   ],
   "source": [
    "# plotting plotting plotting\n",
    "sns.boxplot(errors_data[['error_pre','error_post']],\n",
    "           boxprops=dict(facecolor=\"white\", edgecolor=\"black\"), \n",
    "           whiskerprops=dict(color=\"black\"), capprops=dict(color=\"black\"),\n",
    "           medianprops=dict(color=\"black\"), flierprops=dict(marker='o', markersize=5, alpha=0.5))\n",
    "\n",
    "plt.plot(errors_median.error, errors_median.medians, color='black', linestyle='--', marker='o')\n",
    "\n",
    "for i, txt in enumerate(errors_median.medians):\n",
    "    plt.text(errors_median.error[i], errors_median.medians[i], f'{txt:.2f} min', \n",
    "             ha='right', va='bottom', color='black', fontsize=10)\n",
    "\n",
    "plt.xlabel(\"\\nPre-/ Post-Intervention Conditions\", fontsize=12)\n",
    "plt.ylabel(\"Prediction Discrepancy, min\", fontsize=12)\n",
    "plt.title(\"Pre-/ Post-Intervention Prediction Discrepancy\\n\", fontsize=12)"
   ]
  },
  {
   "cell_type": "markdown",
   "id": "5e67f120-017a-4d7c-a17f-480e7b285301",
   "metadata": {},
   "source": [
    "### Result: Statistically Significant Difference\n",
    "\n",
    "**We accept H1** - Significant difference between pre- and post-intervention prediction discrepancy (`error_pre` vs `error_post`) <p>\n",
    "\n",
    "- See table `errors_table` with medians and std for concrete numbers"
   ]
  },
  {
   "cell_type": "markdown",
   "id": "39887b14-4751-4119-aa94-0cb09cfac3b6",
   "metadata": {},
   "source": [
    "### Quantitative Thematic Content Analysis of Supplementary Feedback\n",
    "\n",
    "1. Mental stimulation helped prepare for the tast better - thematic analysis `mental_stim_helped`\n",
    "2. Intervention type - How closely did you follow the intervention stategy (did this influence the results?) `following_closely`\n",
    "3. Intervention type - Unexpected Challenges `unexpected_challenges`"
   ]
  },
  {
   "cell_type": "markdown",
   "id": "0ee029b1-6c0c-4105-bd37-f28cfdde632d",
   "metadata": {},
   "source": [
    "#### 1) Following Closely"
   ]
  },
  {
   "cell_type": "code",
   "execution_count": 33,
   "id": "b8282eea-fe91-4a08-8205-db9f0e7003df",
   "metadata": {},
   "outputs": [],
   "source": [
    "thematic = all_data[['error', 'condition', 'mental_stim_helped', 'following_closely', 'unexpected_challenges']]\\\n",
    ".query('condition!=\"control\"').copy()"
   ]
  },
  {
   "cell_type": "code",
   "execution_count": 259,
   "id": "9fb73a74-8b6f-4a1f-b271-93a8874cf27c",
   "metadata": {},
   "outputs": [
    {
     "data": {
      "text/html": [
       "<div>\n",
       "<style scoped>\n",
       "    .dataframe tbody tr th:only-of-type {\n",
       "        vertical-align: middle;\n",
       "    }\n",
       "\n",
       "    .dataframe tbody tr th {\n",
       "        vertical-align: top;\n",
       "    }\n",
       "\n",
       "    .dataframe thead th {\n",
       "        text-align: right;\n",
       "    }\n",
       "</style>\n",
       "<table border=\"1\" class=\"dataframe\">\n",
       "  <thead>\n",
       "    <tr style=\"text-align: right;\">\n",
       "      <th></th>\n",
       "      <th>following_closely</th>\n",
       "      <th>condition_1</th>\n",
       "      <th>condition_2</th>\n",
       "      <th>condition_3</th>\n",
       "      <th>overall</th>\n",
       "    </tr>\n",
       "  </thead>\n",
       "  <tbody>\n",
       "    <tr>\n",
       "      <th>0</th>\n",
       "      <td>Exactly the same</td>\n",
       "      <td>1.0</td>\n",
       "      <td>0.0</td>\n",
       "      <td>2.0</td>\n",
       "      <td>3.0</td>\n",
       "    </tr>\n",
       "    <tr>\n",
       "      <th>1</th>\n",
       "      <td>Not at all (I completely changed my strategy)</td>\n",
       "      <td>2.0</td>\n",
       "      <td>0.0</td>\n",
       "      <td>0.0</td>\n",
       "      <td>2.0</td>\n",
       "    </tr>\n",
       "    <tr>\n",
       "      <th>2</th>\n",
       "      <td>Slightly closely (I made more than 4 changes)</td>\n",
       "      <td>3.0</td>\n",
       "      <td>0.0</td>\n",
       "      <td>0.0</td>\n",
       "      <td>3.0</td>\n",
       "    </tr>\n",
       "    <tr>\n",
       "      <th>3</th>\n",
       "      <td>Somewhat Closely (I made 3-4 changes)</td>\n",
       "      <td>1.0</td>\n",
       "      <td>5.0</td>\n",
       "      <td>5.0</td>\n",
       "      <td>11.0</td>\n",
       "    </tr>\n",
       "    <tr>\n",
       "      <th>4</th>\n",
       "      <td>Very closely (I made 1 - 2 changes)</td>\n",
       "      <td>8.0</td>\n",
       "      <td>10.0</td>\n",
       "      <td>8.0</td>\n",
       "      <td>26.0</td>\n",
       "    </tr>\n",
       "  </tbody>\n",
       "</table>\n",
       "</div>"
      ],
      "text/plain": [
       "                               following_closely  condition_1  condition_2  \\\n",
       "0                               Exactly the same          1.0          0.0   \n",
       "1  Not at all (I completely changed my strategy)          2.0          0.0   \n",
       "2  Slightly closely (I made more than 4 changes)          3.0          0.0   \n",
       "3          Somewhat Closely (I made 3-4 changes)          1.0          5.0   \n",
       "4            Very closely (I made 1 - 2 changes)          8.0         10.0   \n",
       "\n",
       "   condition_3  overall  \n",
       "0          2.0      3.0  \n",
       "1          0.0      2.0  \n",
       "2          0.0      3.0  \n",
       "3          5.0     11.0  \n",
       "4          8.0     26.0  "
      ]
     },
     "execution_count": 259,
     "metadata": {},
     "output_type": "execute_result"
    }
   ],
   "source": [
    "tab = thematic.groupby('condition', as_index=False)['following_closely']\\\n",
    ".value_counts().pivot(index='following_closely',columns='condition',values='count')\\\n",
    ".fillna(0).reset_index()\n",
    "tab.columns.name = None\n",
    "tab['overall'] = tab.loc[:, ['condition_1', 'condition_2', 'condition_3']].sum(axis=1)\n",
    "\n",
    "tab"
   ]
  },
  {
   "cell_type": "code",
   "execution_count": 261,
   "id": "23aa0a50-115c-4000-bd99-019a1da8702c",
   "metadata": {},
   "outputs": [
    {
     "data": {
      "text/plain": [
       "Text(0.5, 1.0, 'Following Closely - Error')"
      ]
     },
     "execution_count": 261,
     "metadata": {},
     "output_type": "execute_result"
    },
    {
     "data": {
      "image/png": "[encoded data removed]",
      "text/plain": [
       "<Figure size 1300x500 with 2 Axes>"
      ]
     },
     "metadata": {},
     "output_type": "display_data"
    }
   ],
   "source": [
    "sns.set_style(\"white\")\n",
    "fig, axs = plt.subplots(1, 2, figsize=(13, 5))\n",
    "\n",
    "axs[1].pie(thematic['following_closely'].value_counts(), \n",
    "        labels=thematic['following_closely'].value_counts().index, \n",
    "        autopct='%.0f%%')\n",
    "axs[1].set_title('Following Closely - Distribution', fontsize=12)\n",
    "\n",
    "sns.barplot(data=thematic, x='error', y='following_closely', ax=axs[0])\n",
    "sns.despine()\n",
    "axs[0].set(ylabel=None)\n",
    "axs[0].set_title('Following Closely - Error', fontsize=12)\n"
   ]
  },
  {
   "cell_type": "markdown",
   "id": "2191c204-8d09-441e-a4e3-286e48382cf2",
   "metadata": {},
   "source": [
    "Check if following instructions closely influences the planning error in participants!"
   ]
  },
  {
   "cell_type": "markdown",
   "id": "78ba9994-9ff9-481c-b077-a8211e4dfa0d",
   "metadata": {},
   "source": [
    "#### 2) Mental Stimulation Helped Prepare for the Task Better"
   ]
  },
  {
   "cell_type": "code",
   "execution_count": 43,
   "id": "0fa8a8a8-20ed-4b8b-b369-9d1138f10c90",
   "metadata": {},
   "outputs": [
    {
     "name": "stderr",
     "output_type": "stream",
     "text": [
      "Device set to use cpu\n"
     ]
    }
   ],
   "source": [
    "# nlp processing of responses\n",
    "from transformers import pipeline\n",
    "classifier = pipeline(\"zero-shot-classification\", model=\"facebook/bart-large-mnli\")\n",
    "\n",
    "labels = [\"yes\", \"no\", \"neutral or 'yes and no'\"]\n",
    "\n",
    "def classify_response(text):\n",
    "    result = classifier(text, labels)\n",
    "    return result['labels'][0]\n",
    "\n",
    "thematic['ms_helped_class'] = thematic['mental_stim_helped'].apply(classify_response)"
   ]
  },
  {
   "cell_type": "code",
   "execution_count": 260,
   "id": "5726efa8-149c-48b1-b152-d5d590fe0d75",
   "metadata": {},
   "outputs": [
    {
     "data": {
      "text/html": [
       "<div>\n",
       "<style scoped>\n",
       "    .dataframe tbody tr th:only-of-type {\n",
       "        vertical-align: middle;\n",
       "    }\n",
       "\n",
       "    .dataframe tbody tr th {\n",
       "        vertical-align: top;\n",
       "    }\n",
       "\n",
       "    .dataframe thead th {\n",
       "        text-align: right;\n",
       "    }\n",
       "</style>\n",
       "<table border=\"1\" class=\"dataframe\">\n",
       "  <thead>\n",
       "    <tr style=\"text-align: right;\">\n",
       "      <th></th>\n",
       "      <th>ms_helped_class</th>\n",
       "      <th>condition_1</th>\n",
       "      <th>condition_2</th>\n",
       "      <th>condition_3</th>\n",
       "      <th>overall</th>\n",
       "    </tr>\n",
       "  </thead>\n",
       "  <tbody>\n",
       "    <tr>\n",
       "      <th>0</th>\n",
       "      <td>neutral or 'yes and no'</td>\n",
       "      <td>3.0</td>\n",
       "      <td>1.0</td>\n",
       "      <td>1.0</td>\n",
       "      <td>5.0</td>\n",
       "    </tr>\n",
       "    <tr>\n",
       "      <th>1</th>\n",
       "      <td>no</td>\n",
       "      <td>0.0</td>\n",
       "      <td>1.0</td>\n",
       "      <td>6.0</td>\n",
       "      <td>7.0</td>\n",
       "    </tr>\n",
       "    <tr>\n",
       "      <th>2</th>\n",
       "      <td>yes</td>\n",
       "      <td>12.0</td>\n",
       "      <td>13.0</td>\n",
       "      <td>8.0</td>\n",
       "      <td>33.0</td>\n",
       "    </tr>\n",
       "  </tbody>\n",
       "</table>\n",
       "</div>"
      ],
      "text/plain": [
       "           ms_helped_class  condition_1  condition_2  condition_3  overall\n",
       "0  neutral or 'yes and no'          3.0          1.0          1.0      5.0\n",
       "1                       no          0.0          1.0          6.0      7.0\n",
       "2                      yes         12.0         13.0          8.0     33.0"
      ]
     },
     "execution_count": 260,
     "metadata": {},
     "output_type": "execute_result"
    }
   ],
   "source": [
    "tab1 = thematic.groupby('condition', as_index=False)['ms_helped_class']\\\n",
    ".value_counts().pivot(index='ms_helped_class',columns='condition',values='count')\\\n",
    ".fillna(0).reset_index()\n",
    "tab1.columns.name = None\n",
    "tab1['overall'] = tab1.loc[:, ['condition_1', 'condition_2', 'condition_3']].sum(axis=1)\n",
    "tab1"
   ]
  },
  {
   "cell_type": "code",
   "execution_count": 262,
   "id": "e98c613d-a793-4fdf-9ff9-41e73bcf5dd9",
   "metadata": {},
   "outputs": [
    {
     "data": {
      "image/png": "[encoded data removed]",
      "text/plain": [
       "<Figure size 1200x400 with 2 Axes>"
      ]
     },
     "metadata": {},
     "output_type": "display_data"
    }
   ],
   "source": [
    "fig, axs = plt.subplots(1,2, figsize=(12,4))\n",
    "axs[1].pie(thematic['ms_helped_class'].value_counts(), \n",
    "        labels=['Yes', 'No', 'Neutral'], \n",
    "        autopct='%.0f%%')\n",
    "axs[1].set_title('Mental Stimulation Helped - Distribution')\n",
    "\n",
    "sns.boxplot(data=thematic, x='ms_helped_class', y='error', ax=axs[0])\n",
    "sns.despine()\n",
    "axs[0].set(xlabel=None)\n",
    "axs[0].set_title('Mental Stimulation Helped - Error')\n",
    "\n",
    "plt.show()"
   ]
  },
  {
   "cell_type": "markdown",
   "id": "aa1aa2f8-9078-491b-8c0c-1fe3884da663",
   "metadata": {},
   "source": [
    "#### 2) Unexpected Challenges"
   ]
  },
  {
   "cell_type": "code",
   "execution_count": 221,
   "id": "53e34547-992c-4867-8145-e9f47d011c47",
   "metadata": {},
   "outputs": [
    {
     "data": {
      "image/png": "[encoded data removed]",
      "text/plain": [
       "<Figure size 1200x400 with 2 Axes>"
      ]
     },
     "metadata": {},
     "output_type": "display_data"
    }
   ],
   "source": [
    "fig, axs = plt.subplots(1,2, figsize=(12,4))\n",
    "sns.boxplot(data=thematic,x='condition', y='error', hue='unexpected_challenges', ax=axs[0])\n",
    "axs[0].set_title('Unexpected Challenges by Condition - Error')\n",
    "sns.boxplot(data=thematic,x='unexpected_challenges', y='error', ax=axs[1])\n",
    "axs[1].set_title('Unexpected Challenges - Error')\n",
    "sns.despine()"
   ]
  },
  {
   "cell_type": "code",
   "execution_count": 98,
   "id": "f7fb6313-5ab2-4be0-8bfa-ce8178b5f80d",
   "metadata": {},
   "outputs": [
    {
     "data": {
      "text/html": [
       "<div>\n",
       "<style scoped>\n",
       "    .dataframe tbody tr th:only-of-type {\n",
       "        vertical-align: middle;\n",
       "    }\n",
       "\n",
       "    .dataframe tbody tr th {\n",
       "        vertical-align: top;\n",
       "    }\n",
       "\n",
       "    .dataframe thead th {\n",
       "        text-align: right;\n",
       "    }\n",
       "</style>\n",
       "<table border=\"1\" class=\"dataframe\">\n",
       "  <thead>\n",
       "    <tr style=\"text-align: right;\">\n",
       "      <th></th>\n",
       "      <th>error</th>\n",
       "      <th>condition</th>\n",
       "      <th>mental_stim_helped</th>\n",
       "      <th>following_closely</th>\n",
       "      <th>unexpected_challenges</th>\n",
       "      <th>ms_helped_class</th>\n",
       "    </tr>\n",
       "  </thead>\n",
       "  <tbody>\n",
       "    <tr>\n",
       "      <th>0</th>\n",
       "      <td>10.67</td>\n",
       "      <td>condition_1</td>\n",
       "      <td>I think so, as it forced me to actually think ...</td>\n",
       "      <td>Very closely (I made 1 - 2 changes)</td>\n",
       "      <td>Yes</td>\n",
       "      <td>yes</td>\n",
       "    </tr>\n",
       "    <tr>\n",
       "      <th>1</th>\n",
       "      <td>23.30</td>\n",
       "      <td>condition_1</td>\n",
       "      <td>I think it did as even though I did not use it...</td>\n",
       "      <td>Not at all (I completely changed my strategy)</td>\n",
       "      <td>Yes</td>\n",
       "      <td>yes</td>\n",
       "    </tr>\n",
       "    <tr>\n",
       "      <th>2</th>\n",
       "      <td>19.17</td>\n",
       "      <td>condition_1</td>\n",
       "      <td>I think it helped me plan my approach a little...</td>\n",
       "      <td>Somewhat Closely (I made 3-4 changes)</td>\n",
       "      <td>Yes</td>\n",
       "      <td>yes</td>\n",
       "    </tr>\n",
       "    <tr>\n",
       "      <th>3</th>\n",
       "      <td>3.05</td>\n",
       "      <td>condition_1</td>\n",
       "      <td>I make a plan before I start each of my assign...</td>\n",
       "      <td>Slightly closely (I made more than 4 changes)</td>\n",
       "      <td>No</td>\n",
       "      <td>yes</td>\n",
       "    </tr>\n",
       "    <tr>\n",
       "      <th>4</th>\n",
       "      <td>3.05</td>\n",
       "      <td>condition_1</td>\n",
       "      <td>It helped me visualise the steps of what had t...</td>\n",
       "      <td>Not at all (I completely changed my strategy)</td>\n",
       "      <td>No</td>\n",
       "      <td>yes</td>\n",
       "    </tr>\n",
       "    <tr>\n",
       "      <th>5</th>\n",
       "      <td>6.80</td>\n",
       "      <td>condition_1</td>\n",
       "      <td>Yes, it provided me with clear steps to follow...</td>\n",
       "      <td>Very closely (I made 1 - 2 changes)</td>\n",
       "      <td>Yes</td>\n",
       "      <td>yes</td>\n",
       "    </tr>\n",
       "    <tr>\n",
       "      <th>6</th>\n",
       "      <td>-3.48</td>\n",
       "      <td>condition_1</td>\n",
       "      <td>More efficient in making the powerpoint when I...</td>\n",
       "      <td>Very closely (I made 1 - 2 changes)</td>\n",
       "      <td>No</td>\n",
       "      <td>yes</td>\n",
       "    </tr>\n",
       "    <tr>\n",
       "      <th>7</th>\n",
       "      <td>5.48</td>\n",
       "      <td>condition_1</td>\n",
       "      <td>Yes as it helped me save time as I had already...</td>\n",
       "      <td>Very closely (I made 1 - 2 changes)</td>\n",
       "      <td>Yes</td>\n",
       "      <td>yes</td>\n",
       "    </tr>\n",
       "    <tr>\n",
       "      <th>8</th>\n",
       "      <td>4.17</td>\n",
       "      <td>condition_1</td>\n",
       "      <td>It helped me be a lot more clear before i star...</td>\n",
       "      <td>Slightly closely (I made more than 4 changes)</td>\n",
       "      <td>No</td>\n",
       "      <td>yes</td>\n",
       "    </tr>\n",
       "    <tr>\n",
       "      <th>9</th>\n",
       "      <td>4.72</td>\n",
       "      <td>condition_1</td>\n",
       "      <td>I approach everything I do in this way as it h...</td>\n",
       "      <td>Very closely (I made 1 - 2 changes)</td>\n",
       "      <td>Yes</td>\n",
       "      <td>neutral or 'yes and no'</td>\n",
       "    </tr>\n",
       "    <tr>\n",
       "      <th>10</th>\n",
       "      <td>-9.17</td>\n",
       "      <td>condition_1</td>\n",
       "      <td>Yes, usually before tasks like these, I tend t...</td>\n",
       "      <td>Very closely (I made 1 - 2 changes)</td>\n",
       "      <td>No</td>\n",
       "      <td>yes</td>\n",
       "    </tr>\n",
       "    <tr>\n",
       "      <th>11</th>\n",
       "      <td>0.10</td>\n",
       "      <td>condition_1</td>\n",
       "      <td>Started to get initial ideas of what each slid...</td>\n",
       "      <td>Exactly the same</td>\n",
       "      <td>Yes</td>\n",
       "      <td>neutral or 'yes and no'</td>\n",
       "    </tr>\n",
       "    <tr>\n",
       "      <th>12</th>\n",
       "      <td>8.30</td>\n",
       "      <td>condition_1</td>\n",
       "      <td>Yes - having an outline meant I wasnt faffing</td>\n",
       "      <td>Very closely (I made 1 - 2 changes)</td>\n",
       "      <td>No</td>\n",
       "      <td>yes</td>\n",
       "    </tr>\n",
       "    <tr>\n",
       "      <th>13</th>\n",
       "      <td>0.08</td>\n",
       "      <td>condition_1</td>\n",
       "      <td>It helped me have a starting point so i could ...</td>\n",
       "      <td>Slightly closely (I made more than 4 changes)</td>\n",
       "      <td>Yes</td>\n",
       "      <td>yes</td>\n",
       "    </tr>\n",
       "    <tr>\n",
       "      <th>14</th>\n",
       "      <td>3.63</td>\n",
       "      <td>condition_1</td>\n",
       "      <td>separated the task into smaller chunks</td>\n",
       "      <td>Very closely (I made 1 - 2 changes)</td>\n",
       "      <td>Yes</td>\n",
       "      <td>neutral or 'yes and no'</td>\n",
       "    </tr>\n",
       "    <tr>\n",
       "      <th>15</th>\n",
       "      <td>9.00</td>\n",
       "      <td>condition_2</td>\n",
       "      <td>Yes, by working backwards I put more time for ...</td>\n",
       "      <td>Very closely (I made 1 - 2 changes)</td>\n",
       "      <td>Yes</td>\n",
       "      <td>yes</td>\n",
       "    </tr>\n",
       "    <tr>\n",
       "      <th>16</th>\n",
       "      <td>-19.38</td>\n",
       "      <td>condition_2</td>\n",
       "      <td>Yes, it made it seem simpler. I really thought...</td>\n",
       "      <td>Very closely (I made 1 - 2 changes)</td>\n",
       "      <td>No</td>\n",
       "      <td>yes</td>\n",
       "    </tr>\n",
       "    <tr>\n",
       "      <th>17</th>\n",
       "      <td>-22.00</td>\n",
       "      <td>condition_2</td>\n",
       "      <td>Yes, it helped me break down the task and work...</td>\n",
       "      <td>Very closely (I made 1 - 2 changes)</td>\n",
       "      <td>No</td>\n",
       "      <td>yes</td>\n",
       "    </tr>\n",
       "    <tr>\n",
       "      <th>18</th>\n",
       "      <td>12.38</td>\n",
       "      <td>condition_2</td>\n",
       "      <td>Yes and no. It was good to break the task down...</td>\n",
       "      <td>Somewhat Closely (I made 3-4 changes)</td>\n",
       "      <td>Yes</td>\n",
       "      <td>neutral or 'yes and no'</td>\n",
       "    </tr>\n",
       "    <tr>\n",
       "      <th>19</th>\n",
       "      <td>5.98</td>\n",
       "      <td>condition_2</td>\n",
       "      <td>It definitely helped anticipate some challenge...</td>\n",
       "      <td>Very closely (I made 1 - 2 changes)</td>\n",
       "      <td>No</td>\n",
       "      <td>yes</td>\n",
       "    </tr>\n",
       "    <tr>\n",
       "      <th>20</th>\n",
       "      <td>13.45</td>\n",
       "      <td>condition_2</td>\n",
       "      <td>Yes it broke down the task and I thought that ...</td>\n",
       "      <td>Somewhat Closely (I made 3-4 changes)</td>\n",
       "      <td>Yes</td>\n",
       "      <td>yes</td>\n",
       "    </tr>\n",
       "    <tr>\n",
       "      <th>21</th>\n",
       "      <td>-2.43</td>\n",
       "      <td>condition_2</td>\n",
       "      <td>Yes it helped me break down the task and see i...</td>\n",
       "      <td>Very closely (I made 1 - 2 changes)</td>\n",
       "      <td>Yes</td>\n",
       "      <td>yes</td>\n",
       "    </tr>\n",
       "    <tr>\n",
       "      <th>22</th>\n",
       "      <td>5.57</td>\n",
       "      <td>condition_2</td>\n",
       "      <td>Yes it was interesting but doesn't follow natu...</td>\n",
       "      <td>Somewhat Closely (I made 3-4 changes)</td>\n",
       "      <td>Yes</td>\n",
       "      <td>yes</td>\n",
       "    </tr>\n",
       "    <tr>\n",
       "      <th>23</th>\n",
       "      <td>-1.37</td>\n",
       "      <td>condition_2</td>\n",
       "      <td>It was great working backwards, something diff...</td>\n",
       "      <td>Very closely (I made 1 - 2 changes)</td>\n",
       "      <td>No</td>\n",
       "      <td>yes</td>\n",
       "    </tr>\n",
       "    <tr>\n",
       "      <th>24</th>\n",
       "      <td>-5.52</td>\n",
       "      <td>condition_2</td>\n",
       "      <td>It allowed me to plan and break down the task....</td>\n",
       "      <td>Very closely (I made 1 - 2 changes)</td>\n",
       "      <td>No</td>\n",
       "      <td>yes</td>\n",
       "    </tr>\n",
       "    <tr>\n",
       "      <th>25</th>\n",
       "      <td>6.93</td>\n",
       "      <td>condition_2</td>\n",
       "      <td>No because it was somewhat confusing, I made a...</td>\n",
       "      <td>Somewhat Closely (I made 3-4 changes)</td>\n",
       "      <td>Yes</td>\n",
       "      <td>no</td>\n",
       "    </tr>\n",
       "    <tr>\n",
       "      <th>26</th>\n",
       "      <td>27.58</td>\n",
       "      <td>condition_2</td>\n",
       "      <td>Yes I think it helped because I could break th...</td>\n",
       "      <td>Very closely (I made 1 - 2 changes)</td>\n",
       "      <td>No</td>\n",
       "      <td>yes</td>\n",
       "    </tr>\n",
       "    <tr>\n",
       "      <th>27</th>\n",
       "      <td>-21.27</td>\n",
       "      <td>condition_2</td>\n",
       "      <td>Yes yes yes! It was good to plan, put way more...</td>\n",
       "      <td>Very closely (I made 1 - 2 changes)</td>\n",
       "      <td>Yes</td>\n",
       "      <td>yes</td>\n",
       "    </tr>\n",
       "    <tr>\n",
       "      <th>28</th>\n",
       "      <td>-11.58</td>\n",
       "      <td>condition_2</td>\n",
       "      <td>Yes it was helpful to break down the task and ...</td>\n",
       "      <td>Somewhat Closely (I made 3-4 changes)</td>\n",
       "      <td>No</td>\n",
       "      <td>yes</td>\n",
       "    </tr>\n",
       "    <tr>\n",
       "      <th>29</th>\n",
       "      <td>5.00</td>\n",
       "      <td>condition_2</td>\n",
       "      <td>It was nice to take time to plan and think abo...</td>\n",
       "      <td>Very closely (I made 1 - 2 changes)</td>\n",
       "      <td>No</td>\n",
       "      <td>yes</td>\n",
       "    </tr>\n",
       "    <tr>\n",
       "      <th>30</th>\n",
       "      <td>17.37</td>\n",
       "      <td>condition_3</td>\n",
       "      <td>Somewhat, I still underestimated how much time...</td>\n",
       "      <td>Somewhat Closely (I made 3-4 changes)</td>\n",
       "      <td>Yes</td>\n",
       "      <td>no</td>\n",
       "    </tr>\n",
       "    <tr>\n",
       "      <th>31</th>\n",
       "      <td>6.72</td>\n",
       "      <td>condition_3</td>\n",
       "      <td>Not really, my original estimate was already p...</td>\n",
       "      <td>Very closely (I made 1 - 2 changes)</td>\n",
       "      <td>No</td>\n",
       "      <td>no</td>\n",
       "    </tr>\n",
       "    <tr>\n",
       "      <th>32</th>\n",
       "      <td>2.25</td>\n",
       "      <td>condition_3</td>\n",
       "      <td>yes because i knew what was going to distract ...</td>\n",
       "      <td>Very closely (I made 1 - 2 changes)</td>\n",
       "      <td>No</td>\n",
       "      <td>yes</td>\n",
       "    </tr>\n",
       "    <tr>\n",
       "      <th>33</th>\n",
       "      <td>-0.65</td>\n",
       "      <td>condition_3</td>\n",
       "      <td>Not really, I already think of challenges that...</td>\n",
       "      <td>Exactly the same</td>\n",
       "      <td>No</td>\n",
       "      <td>no</td>\n",
       "    </tr>\n",
       "    <tr>\n",
       "      <th>34</th>\n",
       "      <td>9.20</td>\n",
       "      <td>condition_3</td>\n",
       "      <td>Somewhat, but I still underestimated how long ...</td>\n",
       "      <td>Very closely (I made 1 - 2 changes)</td>\n",
       "      <td>Yes</td>\n",
       "      <td>yes</td>\n",
       "    </tr>\n",
       "    <tr>\n",
       "      <th>35</th>\n",
       "      <td>7.55</td>\n",
       "      <td>condition_3</td>\n",
       "      <td>It helped me remove myself from the situation ...</td>\n",
       "      <td>Very closely (I made 1 - 2 changes)</td>\n",
       "      <td>No</td>\n",
       "      <td>neutral or 'yes and no'</td>\n",
       "    </tr>\n",
       "    <tr>\n",
       "      <th>36</th>\n",
       "      <td>0.15</td>\n",
       "      <td>condition_3</td>\n",
       "      <td>Yes because it helped me visualize what a want...</td>\n",
       "      <td>Somewhat Closely (I made 3-4 changes)</td>\n",
       "      <td>Yes</td>\n",
       "      <td>yes</td>\n",
       "    </tr>\n",
       "    <tr>\n",
       "      <th>37</th>\n",
       "      <td>13.17</td>\n",
       "      <td>condition_3</td>\n",
       "      <td>Yes, it made me more aware of how I usually ru...</td>\n",
       "      <td>Somewhat Closely (I made 3-4 changes)</td>\n",
       "      <td>Yes</td>\n",
       "      <td>yes</td>\n",
       "    </tr>\n",
       "    <tr>\n",
       "      <th>38</th>\n",
       "      <td>-7.70</td>\n",
       "      <td>condition_3</td>\n",
       "      <td>Not too much, I could see how seeing myself fr...</td>\n",
       "      <td>Very closely (I made 1 - 2 changes)</td>\n",
       "      <td>No</td>\n",
       "      <td>no</td>\n",
       "    </tr>\n",
       "    <tr>\n",
       "      <th>39</th>\n",
       "      <td>2.90</td>\n",
       "      <td>condition_3</td>\n",
       "      <td>Not really, it didn’t change much for me becau...</td>\n",
       "      <td>Very closely (I made 1 - 2 changes)</td>\n",
       "      <td>No</td>\n",
       "      <td>no</td>\n",
       "    </tr>\n",
       "    <tr>\n",
       "      <th>40</th>\n",
       "      <td>7.92</td>\n",
       "      <td>condition_3</td>\n",
       "      <td>Yes, it made me consider small delays that I w...</td>\n",
       "      <td>Very closely (I made 1 - 2 changes)</td>\n",
       "      <td>Yes</td>\n",
       "      <td>yes</td>\n",
       "    </tr>\n",
       "    <tr>\n",
       "      <th>41</th>\n",
       "      <td>3.78</td>\n",
       "      <td>condition_3</td>\n",
       "      <td>Yes, it made me think ahead rather than just d...</td>\n",
       "      <td>Somewhat Closely (I made 3-4 changes)</td>\n",
       "      <td>Yes</td>\n",
       "      <td>yes</td>\n",
       "    </tr>\n",
       "    <tr>\n",
       "      <th>42</th>\n",
       "      <td>4.68</td>\n",
       "      <td>condition_3</td>\n",
       "      <td>yes, it made me think ahead and anticipate are...</td>\n",
       "      <td>Very closely (I made 1 - 2 changes)</td>\n",
       "      <td>No</td>\n",
       "      <td>yes</td>\n",
       "    </tr>\n",
       "    <tr>\n",
       "      <th>43</th>\n",
       "      <td>-1.43</td>\n",
       "      <td>condition_3</td>\n",
       "      <td>Not really, I already plan things out well so ...</td>\n",
       "      <td>Exactly the same</td>\n",
       "      <td>No</td>\n",
       "      <td>no</td>\n",
       "    </tr>\n",
       "    <tr>\n",
       "      <th>44</th>\n",
       "      <td>5.30</td>\n",
       "      <td>condition_3</td>\n",
       "      <td>Yes, I felt like I had a better sense of the s...</td>\n",
       "      <td>Somewhat Closely (I made 3-4 changes)</td>\n",
       "      <td>No</td>\n",
       "      <td>yes</td>\n",
       "    </tr>\n",
       "  </tbody>\n",
       "</table>\n",
       "</div>"
      ],
      "text/plain": [
       "    error    condition                                 mental_stim_helped  \\\n",
       "0   10.67  condition_1  I think so, as it forced me to actually think ...   \n",
       "1   23.30  condition_1  I think it did as even though I did not use it...   \n",
       "2   19.17  condition_1  I think it helped me plan my approach a little...   \n",
       "3    3.05  condition_1  I make a plan before I start each of my assign...   \n",
       "4    3.05  condition_1  It helped me visualise the steps of what had t...   \n",
       "5    6.80  condition_1  Yes, it provided me with clear steps to follow...   \n",
       "6   -3.48  condition_1  More efficient in making the powerpoint when I...   \n",
       "7    5.48  condition_1  Yes as it helped me save time as I had already...   \n",
       "8    4.17  condition_1  It helped me be a lot more clear before i star...   \n",
       "9    4.72  condition_1  I approach everything I do in this way as it h...   \n",
       "10  -9.17  condition_1  Yes, usually before tasks like these, I tend t...   \n",
       "11   0.10  condition_1  Started to get initial ideas of what each slid...   \n",
       "12   8.30  condition_1      Yes - having an outline meant I wasnt faffing   \n",
       "13   0.08  condition_1  It helped me have a starting point so i could ...   \n",
       "14   3.63  condition_1             separated the task into smaller chunks   \n",
       "15   9.00  condition_2  Yes, by working backwards I put more time for ...   \n",
       "16 -19.38  condition_2  Yes, it made it seem simpler. I really thought...   \n",
       "17 -22.00  condition_2  Yes, it helped me break down the task and work...   \n",
       "18  12.38  condition_2  Yes and no. It was good to break the task down...   \n",
       "19   5.98  condition_2  It definitely helped anticipate some challenge...   \n",
       "20  13.45  condition_2  Yes it broke down the task and I thought that ...   \n",
       "21  -2.43  condition_2  Yes it helped me break down the task and see i...   \n",
       "22   5.57  condition_2  Yes it was interesting but doesn't follow natu...   \n",
       "23  -1.37  condition_2  It was great working backwards, something diff...   \n",
       "24  -5.52  condition_2  It allowed me to plan and break down the task....   \n",
       "25   6.93  condition_2  No because it was somewhat confusing, I made a...   \n",
       "26  27.58  condition_2  Yes I think it helped because I could break th...   \n",
       "27 -21.27  condition_2  Yes yes yes! It was good to plan, put way more...   \n",
       "28 -11.58  condition_2  Yes it was helpful to break down the task and ...   \n",
       "29   5.00  condition_2  It was nice to take time to plan and think abo...   \n",
       "30  17.37  condition_3  Somewhat, I still underestimated how much time...   \n",
       "31   6.72  condition_3  Not really, my original estimate was already p...   \n",
       "32   2.25  condition_3  yes because i knew what was going to distract ...   \n",
       "33  -0.65  condition_3  Not really, I already think of challenges that...   \n",
       "34   9.20  condition_3  Somewhat, but I still underestimated how long ...   \n",
       "35   7.55  condition_3  It helped me remove myself from the situation ...   \n",
       "36   0.15  condition_3  Yes because it helped me visualize what a want...   \n",
       "37  13.17  condition_3  Yes, it made me more aware of how I usually ru...   \n",
       "38  -7.70  condition_3  Not too much, I could see how seeing myself fr...   \n",
       "39   2.90  condition_3  Not really, it didn’t change much for me becau...   \n",
       "40   7.92  condition_3  Yes, it made me consider small delays that I w...   \n",
       "41   3.78  condition_3  Yes, it made me think ahead rather than just d...   \n",
       "42   4.68  condition_3  yes, it made me think ahead and anticipate are...   \n",
       "43  -1.43  condition_3  Not really, I already plan things out well so ...   \n",
       "44   5.30  condition_3  Yes, I felt like I had a better sense of the s...   \n",
       "\n",
       "                                following_closely unexpected_challenges  \\\n",
       "0             Very closely (I made 1 - 2 changes)                   Yes   \n",
       "1   Not at all (I completely changed my strategy)                   Yes   \n",
       "2           Somewhat Closely (I made 3-4 changes)                   Yes   \n",
       "3   Slightly closely (I made more than 4 changes)                    No   \n",
       "4   Not at all (I completely changed my strategy)                    No   \n",
       "5             Very closely (I made 1 - 2 changes)                   Yes   \n",
       "6             Very closely (I made 1 - 2 changes)                    No   \n",
       "7             Very closely (I made 1 - 2 changes)                   Yes   \n",
       "8   Slightly closely (I made more than 4 changes)                    No   \n",
       "9             Very closely (I made 1 - 2 changes)                   Yes   \n",
       "10            Very closely (I made 1 - 2 changes)                    No   \n",
       "11                               Exactly the same                   Yes   \n",
       "12            Very closely (I made 1 - 2 changes)                    No   \n",
       "13  Slightly closely (I made more than 4 changes)                   Yes   \n",
       "14            Very closely (I made 1 - 2 changes)                   Yes   \n",
       "15            Very closely (I made 1 - 2 changes)                   Yes   \n",
       "16            Very closely (I made 1 - 2 changes)                    No   \n",
       "17            Very closely (I made 1 - 2 changes)                    No   \n",
       "18          Somewhat Closely (I made 3-4 changes)                   Yes   \n",
       "19            Very closely (I made 1 - 2 changes)                    No   \n",
       "20          Somewhat Closely (I made 3-4 changes)                   Yes   \n",
       "21            Very closely (I made 1 - 2 changes)                   Yes   \n",
       "22          Somewhat Closely (I made 3-4 changes)                   Yes   \n",
       "23            Very closely (I made 1 - 2 changes)                    No   \n",
       "24            Very closely (I made 1 - 2 changes)                    No   \n",
       "25          Somewhat Closely (I made 3-4 changes)                   Yes   \n",
       "26            Very closely (I made 1 - 2 changes)                    No   \n",
       "27            Very closely (I made 1 - 2 changes)                   Yes   \n",
       "28          Somewhat Closely (I made 3-4 changes)                    No   \n",
       "29            Very closely (I made 1 - 2 changes)                    No   \n",
       "30          Somewhat Closely (I made 3-4 changes)                   Yes   \n",
       "31            Very closely (I made 1 - 2 changes)                    No   \n",
       "32            Very closely (I made 1 - 2 changes)                    No   \n",
       "33                               Exactly the same                    No   \n",
       "34            Very closely (I made 1 - 2 changes)                   Yes   \n",
       "35            Very closely (I made 1 - 2 changes)                    No   \n",
       "36          Somewhat Closely (I made 3-4 changes)                   Yes   \n",
       "37          Somewhat Closely (I made 3-4 changes)                   Yes   \n",
       "38            Very closely (I made 1 - 2 changes)                    No   \n",
       "39            Very closely (I made 1 - 2 changes)                    No   \n",
       "40            Very closely (I made 1 - 2 changes)                   Yes   \n",
       "41          Somewhat Closely (I made 3-4 changes)                   Yes   \n",
       "42            Very closely (I made 1 - 2 changes)                    No   \n",
       "43                               Exactly the same                    No   \n",
       "44          Somewhat Closely (I made 3-4 changes)                    No   \n",
       "\n",
       "            ms_helped_class  \n",
       "0                       yes  \n",
       "1                       yes  \n",
       "2                       yes  \n",
       "3                       yes  \n",
       "4                       yes  \n",
       "5                       yes  \n",
       "6                       yes  \n",
       "7                       yes  \n",
       "8                       yes  \n",
       "9   neutral or 'yes and no'  \n",
       "10                      yes  \n",
       "11  neutral or 'yes and no'  \n",
       "12                      yes  \n",
       "13                      yes  \n",
       "14  neutral or 'yes and no'  \n",
       "15                      yes  \n",
       "16                      yes  \n",
       "17                      yes  \n",
       "18  neutral or 'yes and no'  \n",
       "19                      yes  \n",
       "20                      yes  \n",
       "21                      yes  \n",
       "22                      yes  \n",
       "23                      yes  \n",
       "24                      yes  \n",
       "25                       no  \n",
       "26                      yes  \n",
       "27                      yes  \n",
       "28                      yes  \n",
       "29                      yes  \n",
       "30                       no  \n",
       "31                       no  \n",
       "32                      yes  \n",
       "33                       no  \n",
       "34                      yes  \n",
       "35  neutral or 'yes and no'  \n",
       "36                      yes  \n",
       "37                      yes  \n",
       "38                       no  \n",
       "39                       no  \n",
       "40                      yes  \n",
       "41                      yes  \n",
       "42                      yes  \n",
       "43                       no  \n",
       "44                      yes  "
      ]
     },
     "execution_count": 98,
     "metadata": {},
     "output_type": "execute_result"
    }
   ],
   "source": [
    "# "
   ]
  },
  {
   "cell_type": "code",
   "execution_count": null,
   "id": "ec606d1f-ee4f-4a0e-b10c-f112c430b454",
   "metadata": {},
   "outputs": [],
   "source": []
  }
 ],
 "metadata": {
  "kernelspec": {
   "display_name": "Python 3 (ipykernel)",
   "language": "python",
   "name": "python3"
  },
  "language_info": {
   "codemirror_mode": {
    "name": "ipython",
    "version": 3
   },
   "file_extension": ".py",
   "mimetype": "text/x-python",
   "name": "python",
   "nbconvert_exporter": "python",
   "pygments_lexer": "ipython3",
   "version": "3.13.2"
  }
 },
 "nbformat": 4,
 "nbformat_minor": 5
}
